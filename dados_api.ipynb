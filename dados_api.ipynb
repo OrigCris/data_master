{
 "cells": [
  {
   "cell_type": "code",
   "execution_count": 8,
   "metadata": {},
   "outputs": [],
   "source": [
    "import requests, json, pandas as pd\n",
    "import time\n",
    "\n",
    "api_cards = 'https://random-data-api.com/api/v2/credit_cards'\n",
    "api_users = 'https://random-data-api.com/api/v2/users'"
   ]
  },
  {
   "cell_type": "code",
   "execution_count": 11,
   "metadata": {},
   "outputs": [],
   "source": [
    "response = requests.get(url=api_users)\n",
    "dados_retorno = json.loads(response.content)"
   ]
  },
  {
   "cell_type": "code",
   "execution_count": 12,
   "metadata": {},
   "outputs": [
    {
     "data": {
      "text/plain": [
       "{'id': 4373,\n",
       " 'uid': '14db5f4d-0144-433f-b401-1b9df1e5d4b9',\n",
       " 'password': '7AmFvujPGb',\n",
       " 'first_name': 'Qiana',\n",
       " 'last_name': 'Abernathy',\n",
       " 'username': 'qiana.abernathy',\n",
       " 'email': 'qiana.abernathy@email.com',\n",
       " 'avatar': 'https://robohash.org/reiciendisquaeipsum.png?size=300x300&set=set1',\n",
       " 'gender': 'Agender',\n",
       " 'phone_number': '+240 296.178.1940 x76044',\n",
       " 'social_insurance_number': '131252405',\n",
       " 'date_of_birth': '1978-02-15',\n",
       " 'employment': {'title': 'Technology Engineer', 'key_skill': 'Organisation'},\n",
       " 'address': {'city': 'North Efrainview',\n",
       "  'street_name': 'Bailey Circle',\n",
       "  'street_address': '9050 Etta Roads',\n",
       "  'zip_code': '49719',\n",
       "  'state': 'Texas',\n",
       "  'country': 'United States',\n",
       "  'coordinates': {'lat': 54.431898136314004, 'lng': 120.49314581145478}},\n",
       " 'credit_card': {'cc_number': '4435748417841'},\n",
       " 'subscription': {'plan': 'Platinum',\n",
       "  'status': 'Pending',\n",
       "  'payment_method': 'Apple Pay',\n",
       "  'term': 'Full subscription'}}"
      ]
     },
     "execution_count": 12,
     "metadata": {},
     "output_type": "execute_result"
    }
   ],
   "source": [
    "dados_retorno"
   ]
  }
 ],
 "metadata": {
  "kernelspec": {
   "display_name": "Python 3",
   "language": "python",
   "name": "python3"
  },
  "language_info": {
   "codemirror_mode": {
    "name": "ipython",
    "version": 3
   },
   "file_extension": ".py",
   "mimetype": "text/x-python",
   "name": "python",
   "nbconvert_exporter": "python",
   "pygments_lexer": "ipython3",
   "version": "3.11.3"
  }
 },
 "nbformat": 4,
 "nbformat_minor": 2
}
