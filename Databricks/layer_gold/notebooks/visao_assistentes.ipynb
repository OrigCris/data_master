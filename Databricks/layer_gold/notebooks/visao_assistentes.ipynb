{
 "cells": [
  {
   "cell_type": "markdown",
   "metadata": {
    "application/vnd.databricks.v1+cell": {
     "cellMetadata": {},
     "inputWidgets": {},
     "nuid": "d6e02db8-162b-4fef-968f-be7f34801c5e",
     "showTitle": false,
     "tableResultSettingsMap": {},
     "title": ""
    }
   },
   "source": [
    "# Visão Assistentes\n",
    "\n",
    "**Objetivo:** consolidar chamadas (`tabe_calls`), pesquisa URA (`tabe_pesq_ura`) e dimensão de assistentes (`dim_assistentes`) **D‑1** em uma visão diária por assistente, materializada em `prd.g_dm_callcenter.visao_assistentes` com `replaceWhere` por `DT_REFE`."
   ]
  },
  {
   "cell_type": "markdown",
   "metadata": {
    "application/vnd.databricks.v1+cell": {
     "cellMetadata": {},
     "inputWidgets": {},
     "nuid": "c18b09f7-b67a-4c31-a076-c1164dc2d0e4",
     "showTitle": false,
     "tableResultSettingsMap": {},
     "title": ""
    }
   },
   "source": [
    "## Imports\n"
   ]
  },
  {
   "cell_type": "code",
   "execution_count": 0,
   "metadata": {
    "application/vnd.databricks.v1+cell": {
     "cellMetadata": {
      "byteLimit": 2048000,
      "rowLimit": 10000
     },
     "inputWidgets": {},
     "nuid": "27a2e859-db3b-44e2-b4c6-d138c91020fb",
     "showTitle": false,
     "tableResultSettingsMap": {},
     "title": ""
    }
   },
   "outputs": [],
   "source": [
    "from pyspark.sql import functions as F, Window as W\n",
    "from datetime import datetime, timedelta"
   ]
  },
  {
   "cell_type": "markdown",
   "metadata": {
    "application/vnd.databricks.v1+cell": {
     "cellMetadata": {},
     "inputWidgets": {},
     "nuid": "89592d23-22c3-4094-946b-e2a3b2277452",
     "showTitle": false,
     "tableResultSettingsMap": {},
     "title": ""
    }
   },
   "source": [
    "## Parâmetros\n"
   ]
  },
  {
   "cell_type": "code",
   "execution_count": 0,
   "metadata": {
    "application/vnd.databricks.v1+cell": {
     "cellMetadata": {
      "byteLimit": 2048000,
      "rowLimit": 10000
     },
     "inputWidgets": {},
     "nuid": "2cbb5294-225d-4a5e-a55f-bb036885bb26",
     "showTitle": false,
     "tableResultSettingsMap": {},
     "title": ""
    }
   },
   "outputs": [],
   "source": [
    "# Data de referência (D‑1 por padrão)\n",
    "odate = (datetime.now() - timedelta(days=1)).date()\n",
    "\n",
    "# Tabelas origens\n",
    "nm_tabe_calls = 'prd.s_dm_callcenter.tabe_calls'\n",
    "nm_tabe_pesq_ura  = 'prd.s_dm_callcenter.tabe_pesq_ura'\n",
    "nm_dim_assist  = 'prd.b_dm_callcenter.dim_assistentes'\n",
    "\n",
    "# Tabela final\n",
    "nm_tabe_final = 'prd.g_dm_callcenter.visao_assistentes'"
   ]
  },
  {
   "cell_type": "markdown",
   "metadata": {
    "application/vnd.databricks.v1+cell": {
     "cellMetadata": {},
     "inputWidgets": {},
     "nuid": "ada69eea-f762-4c51-82d3-3d91d574a902",
     "showTitle": false,
     "tableResultSettingsMap": {},
     "title": ""
    }
   },
   "source": [
    "## 1) Chamadas\n",
    "- **IN_RECH:** cliente que volta a ligar em ≤24h (cálculo por janela)\n"
   ]
  },
  {
   "cell_type": "code",
   "execution_count": 0,
   "metadata": {
    "application/vnd.databricks.v1+cell": {
     "cellMetadata": {
      "byteLimit": 2048000,
      "rowLimit": 10000
     },
     "inputWidgets": {},
     "nuid": "6c6cffb5-2624-4bd2-81bb-5caa63e4c1a5",
     "showTitle": false,
     "tableResultSettingsMap": {},
     "title": ""
    }
   },
   "outputs": [],
   "source": [
    "df_tabe_calls = (\n",
    "    # Base origem\n",
    "    spark.table(nm_tabe_calls)\n",
    "\n",
    "    # Filtrando o dia do dado\n",
    "    .filter(F.col('DT_INIC') == odate)\n",
    "\n",
    "    # Criando coluna de chamada atendida\n",
    "    .withColumn('IN_CHAM_ATEN', F.lit(1))\n",
    "\n",
    "    # Criando a coluna de rechamada, sempre que o cliente liga novamente em menos de 24 horas\n",
    "    .withColumn('IN_RECH', \n",
    "        F.when(\n",
    "            (F.col('ID_CHAM') != (F.lead('ID_CHAM',1).over(W.partitionBy('ID_CLIE').orderBy('DH_INIC'))))\n",
    "            & (F.unix_timestamp(F.col('DH_INIC')) - (F.lead(F.unix_timestamp(F.col('DH_INIC')),1).over(W.partitionBy('ID_CLIE').orderBy('DH_INIC'))) <= 86400) \n",
    "        ,F.lit(1)).otherwise(F.lit(0))\n",
    "    )\n",
    ")"
   ]
  },
  {
   "cell_type": "markdown",
   "metadata": {
    "application/vnd.databricks.v1+cell": {
     "cellMetadata": {},
     "inputWidgets": {},
     "nuid": "8e441fb9-d6fe-4ee1-885e-ee5fb2453327",
     "showTitle": false,
     "tableResultSettingsMap": {},
     "title": ""
    }
   },
   "source": [
    "## 2) Pesquisa URA\n",
    "- **Sinalização NPS:** `IN_PRMT` (promotor), `IN_NTRO` (neutro) e `IN_DETR` (detrator).\n",
    "> *Regra adotada*: promotor `>= 6`, neutro `== 5`, detrator `<= 4`\n"
   ]
  },
  {
   "cell_type": "code",
   "execution_count": 0,
   "metadata": {
    "application/vnd.databricks.v1+cell": {
     "cellMetadata": {
      "byteLimit": 2048000,
      "rowLimit": 10000
     },
     "inputWidgets": {},
     "nuid": "4a4b34f4-bba4-4817-a96c-1d4d61a7e903",
     "showTitle": false,
     "tableResultSettingsMap": {},
     "title": ""
    }
   },
   "outputs": [],
   "source": [
    "df_tabe_pesq_ura = (\n",
    "    # Base origem\n",
    "    spark.table(nm_tabe_pesq_ura)\n",
    "\n",
    "    # Filtrando o dia do dado\n",
    "    .filter(F.col('DT_ENVI') == odate)\n",
    "\n",
    "    # Criando as colunas de PROMOTOR, NEUTRO e DETRATOR\n",
    "    .withColumn('IN_PRMT', F.when(F.col('VL_NOTA') >= 6,F.lit(1)).otherwise(F.lit(0)))\n",
    "    .withColumn('IN_NTRO', F.when(F.col('VL_NOTA') == 5,F.lit(1)).otherwise(F.lit(0)))\n",
    "    .withColumn('IN_DETR', F.when(F.col('VL_NOTA') <= 4,F.lit(1)).otherwise(F.lit(0)))\n",
    ")\n"
   ]
  },
  {
   "cell_type": "markdown",
   "metadata": {
    "application/vnd.databricks.v1+cell": {
     "cellMetadata": {},
     "inputWidgets": {},
     "nuid": "3810e3ca-cf6d-4571-a92f-6ee75099989b",
     "showTitle": false,
     "tableResultSettingsMap": {},
     "title": ""
    }
   },
   "source": [
    "## 3) Dimensão de Assistentes"
   ]
  },
  {
   "cell_type": "code",
   "execution_count": 0,
   "metadata": {
    "application/vnd.databricks.v1+cell": {
     "cellMetadata": {
      "byteLimit": 2048000,
      "rowLimit": 10000
     },
     "inputWidgets": {},
     "nuid": "b05af2e1-3239-424f-9681-b523d347faed",
     "showTitle": false,
     "tableResultSettingsMap": {},
     "title": ""
    }
   },
   "outputs": [],
   "source": [
    "rename_cols_assist = {\n",
    "    'identificadorAssistente': 'ID_ASST',\n",
    "    'area': 'DS_AREA',\n",
    "    'nomeAssistente': 'NM_ASST',\n",
    "    'nomeSupervisor': 'NM_SVSP',\n",
    "    'nomeCoordenador': 'NM_CORD',\n",
    "    'nomeGerente': 'NM_GERN',\n",
    "    'nomeSuperintendente': 'NM_SUPT'\n",
    "}\n",
    "\n",
    "df_dim_assist = (\n",
    "    # Base origem\n",
    "    spark.table(nm_dim_assist)\n",
    "\n",
    "    # Renomeandos os campos para uso posterior\n",
    "    .withColumnsRenamed(rename_cols_assist)\n",
    ")"
   ]
  },
  {
   "cell_type": "markdown",
   "metadata": {
    "application/vnd.databricks.v1+cell": {
     "cellMetadata": {},
     "inputWidgets": {},
     "nuid": "17e92dd4-ee0b-41ae-adfd-85a06e37a2cb",
     "showTitle": false,
     "tableResultSettingsMap": {},
     "title": ""
    }
   },
   "source": [
    "## 4) Join + Métricas agregadas"
   ]
  },
  {
   "cell_type": "code",
   "execution_count": 0,
   "metadata": {
    "application/vnd.databricks.v1+cell": {
     "cellMetadata": {
      "byteLimit": 2048000,
      "rowLimit": 10000
     },
     "inputWidgets": {},
     "nuid": "44f3c2fd-b8de-4d2c-9bed-7f21b09dcf1e",
     "showTitle": false,
     "tableResultSettingsMap": {},
     "title": ""
    }
   },
   "outputs": [],
   "source": [
    "result = df_dim_assist.alias('assist') \\\n",
    "    .join(df_tabe_calls.alias('calls'), on='ID_ASST', how='inner') \\\n",
    "    .join(df_tabe_pesq_ura.alias('pesq'), on='ID_CHAM', how='left') \\\n",
    "    .withColumn('TEMPO_ATENDIMENTO', F.unix_timestamp(F.col('DH_FIM')) - F.unix_timestamp(F.col('DH_INIC'))) \\\n",
    "    .select(\n",
    "        'calls.CD_PERI','DT_INIC', 'DS_AREA', 'ID_ASST', 'NM_ASST', 'NM_SVSP', 'NM_CORD', 'NM_GERN', 'NM_SUPT',\n",
    "        'IN_CHAM_ATEN','IN_TRAF','IN_TRAF_INDV','IN_RECH','TEMPO_ATENDIMENTO', 'IN_PRMT', 'IN_NTRO', 'IN_DETR'\n",
    "    ) \\\n",
    "    .withColumnRenamed('DT_INIC', 'DT_REFE') \\\n",
    "    .groupby('CD_PERI', 'DT_REFE', 'DS_AREA', 'ID_ASST', 'NM_ASST', 'NM_SVSP', 'NM_CORD', 'NM_GERN', 'NM_SUPT') \\\n",
    "    .agg(\n",
    "        F.sum('IN_CHAM_ATEN').alias('QT_CHAM_ATEN'),\n",
    "        F.sum('IN_TRAF').alias('QT_TRAF'),\n",
    "        F.round(F.sum('IN_TRAF') / F.sum('IN_CHAM_ATEN'),2).alias('PC_TRAF'),\n",
    "        F.sum('IN_TRAF_INDV').alias('QT_TRAF_INDV'),\n",
    "        F.round(F.sum('IN_TRAF_INDV') / F.sum('IN_CHAM_ATEN'),2).alias('PC_TRAF_INDV'),\n",
    "        F.sum('IN_RECH').alias('QT_RECH'),\n",
    "        F.round(F.sum('IN_RECH') / F.sum('IN_CHAM_ATEN'),2).alias('PC_RECH'),\n",
    "        F.round(F.sum('TEMPO_ATENDIMENTO') / F.sum('IN_CHAM_ATEN'),2).alias('VL_TEMP_MEDI_OPER'),\n",
    "        F.sum('IN_PRMT').alias('QT_PRMT'),\n",
    "        F.sum('IN_NTRO').alias('QT_NTRO'),\n",
    "        F.sum('IN_DETR').alias('QT_DETR'),\n",
    "        F.round(\n",
    "            (F.sum('IN_PRMT') - F.sum('IN_DETR')) / \n",
    "            (F.sum('IN_PRMT') + F.sum('IN_NTRO') + F.sum('IN_DETR')) * 100\n",
    "        ,2).alias('VL_NPS')\n",
    "    )"
   ]
  },
  {
   "cell_type": "markdown",
   "metadata": {
    "application/vnd.databricks.v1+cell": {
     "cellMetadata": {},
     "inputWidgets": {},
     "nuid": "b7a534ca-8bed-4b1c-8251-3911112cc4d6",
     "showTitle": false,
     "tableResultSettingsMap": {},
     "title": ""
    }
   },
   "source": [
    "## 5) Criação da tabela destino\n",
    "Cria a tabela e aplica `CLUSTER BY (CD_PERI, DT_REFE, ID_ASST)`"
   ]
  },
  {
   "cell_type": "code",
   "execution_count": 0,
   "metadata": {
    "application/vnd.databricks.v1+cell": {
     "cellMetadata": {
      "byteLimit": 2048000,
      "rowLimit": 10000
     },
     "inputWidgets": {},
     "nuid": "a6c4c504-506b-40cf-b4db-985daa32c94e",
     "showTitle": false,
     "tableResultSettingsMap": {},
     "title": ""
    }
   },
   "outputs": [],
   "source": [
    "if not spark.catalog.tableExists(nm_tabe_final):\n",
    "    empty = spark.createDataFrame([], result.schema)\n",
    "    (empty.write\n",
    "        .format(\"delta\")\n",
    "        .mode(\"overwrite\")\n",
    "        .saveAsTable(nm_tabe_final))\n",
    "    spark.sql(f\"ALTER TABLE {nm_tabe_final} CLUSTER BY (CD_PERI, DT_REFE, ID_ASST)\")\n",
    "\n",
    "result.write \\\n",
    "    .mode('overwrite') \\\n",
    "    .option('replaceWhere', f\"DT_REFE = '{odate}'\") \\\n",
    "    .saveAsTable(nm_tabe_final)"
   ]
  }
 ],
 "metadata": {
  "application/vnd.databricks.v1+notebook": {
   "computePreferences": null,
   "dashboards": [],
   "environmentMetadata": null,
   "inputWidgetPreferences": null,
   "language": "python",
   "notebookMetadata": {
    "pythonIndentUnit": 4
   },
   "notebookName": "visao_assistentes",
   "widgets": {}
  },
  "language_info": {
   "name": "python"
  }
 },
 "nbformat": 4,
 "nbformat_minor": 0
}