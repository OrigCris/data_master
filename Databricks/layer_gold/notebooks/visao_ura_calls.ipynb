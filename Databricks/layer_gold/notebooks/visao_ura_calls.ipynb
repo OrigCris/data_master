{
 "cells": [
  {
   "cell_type": "markdown",
   "metadata": {
    "application/vnd.databricks.v1+cell": {
     "cellMetadata": {
      "byteLimit": 2048000,
      "rowLimit": 10000
     },
     "inputWidgets": {},
     "nuid": "d6e02db8-162b-4fef-968f-be7f34801c5e",
     "showTitle": false,
     "tableResultSettingsMap": {},
     "title": ""
    }
   },
   "source": [
    "# Visão agrupada da URA x DERIVAÇÕES\n",
    "\n",
    "**Objetivo:** consolidar chamadas da URA `tabe_ura_anlt`) e chamadas derivadas (`tabe_calls`), **D‑1** em uma visão diária por fila, materializada em `prd.g_dm_callcenter.visao_ura_calls` com `replaceWhere` por `DT_REFE`."
   ]
  },
  {
   "cell_type": "markdown",
   "metadata": {
    "application/vnd.databricks.v1+cell": {
     "cellMetadata": {
      "byteLimit": 2048000,
      "rowLimit": 10000
     },
     "inputWidgets": {},
     "nuid": "c18b09f7-b67a-4c31-a076-c1164dc2d0e4",
     "showTitle": false,
     "tableResultSettingsMap": {},
     "title": ""
    }
   },
   "source": [
    "## Imports\n"
   ]
  },
  {
   "cell_type": "code",
   "execution_count": 0,
   "metadata": {
    "application/vnd.databricks.v1+cell": {
     "cellMetadata": {
      "byteLimit": 2048000,
      "rowLimit": 10000
     },
     "inputWidgets": {},
     "nuid": "27a2e859-db3b-44e2-b4c6-d138c91020fb",
     "showTitle": false,
     "tableResultSettingsMap": {},
     "title": ""
    }
   },
   "outputs": [],
   "source": [
    "from pyspark.sql import functions as F, Window as W\n",
    "from datetime import datetime, timedelta"
   ]
  },
  {
   "cell_type": "markdown",
   "metadata": {
    "application/vnd.databricks.v1+cell": {
     "cellMetadata": {
      "byteLimit": 2048000,
      "rowLimit": 10000
     },
     "inputWidgets": {},
     "nuid": "89592d23-22c3-4094-946b-e2a3b2277452",
     "showTitle": false,
     "tableResultSettingsMap": {},
     "title": ""
    }
   },
   "source": [
    "## Parâmetros\n"
   ]
  },
  {
   "cell_type": "code",
   "execution_count": 0,
   "metadata": {
    "application/vnd.databricks.v1+cell": {
     "cellMetadata": {
      "byteLimit": 2048000,
      "rowLimit": 10000
     },
     "inputWidgets": {},
     "nuid": "2cbb5294-225d-4a5e-a55f-bb036885bb26",
     "showTitle": false,
     "tableResultSettingsMap": {},
     "title": ""
    }
   },
   "outputs": [],
   "source": [
    "# Data de referência (D‑1 por padrão)\n",
    "odate = (datetime.now() - timedelta(days=1)).date()\n",
    "\n",
    "# Tabelas origens\n",
    "nm_tabe_calls = 'prd.s_dm_callcenter.tabe_calls'\n",
    "nm_tabe_ura_anlt  = 'prd.s_dm_callcenter.tabe_ura_anlt'\n",
    "\n",
    "# Tabela final\n",
    "nm_tabe_final = 'prd.g_dm_callcenter.visao_ura_calls'"
   ]
  },
  {
   "cell_type": "markdown",
   "metadata": {
    "application/vnd.databricks.v1+cell": {
     "cellMetadata": {
      "byteLimit": 2048000,
      "rowLimit": 10000
     },
     "inputWidgets": {},
     "nuid": "8e441fb9-d6fe-4ee1-885e-ee5fb2453327",
     "showTitle": false,
     "tableResultSettingsMap": {},
     "title": ""
    }
   },
   "source": [
    "## 1) URA"
   ]
  },
  {
   "cell_type": "code",
   "execution_count": 0,
   "metadata": {
    "application/vnd.databricks.v1+cell": {
     "cellMetadata": {
      "byteLimit": 2048000,
      "rowLimit": 10000
     },
     "inputWidgets": {},
     "nuid": "4a4b34f4-bba4-4817-a96c-1d4d61a7e903",
     "showTitle": false,
     "tableResultSettingsMap": {},
     "title": ""
    }
   },
   "outputs": [],
   "source": [
    "w_ura = W.partitionBy('ID_CHAM').orderBy(F.col('DH_INIC').asc())\n",
    "\n",
    "df_tabe_ura = (\n",
    "    # Base origem\n",
    "    spark.table(nm_tabe_ura_anlt)\n",
    "\n",
    "    .filter(F.col('DT_INIC') == odate)\n",
    "\n",
    "    .withColumn('DT_REFE', F.to_date('DT_INIC')) \n",
    "    .withColumn('QT_OPCA_NAVG_LAST', F.last('QT_OPCA_NAVG', True).over(w_ura))\n",
    "    .withColumn('IN_DERV_ATEN_ANY', F.max(F.col('IN_DERV_ATEN').cast('int')).over(w_ura))\n",
    "    .withColumn('IN_AUTN_ANY',      F.max(F.col('IN_AUTN').cast('int')).over(w_ura))\n",
    "    .select('ID_CHAM','ID_FILA','CD_PERI','DT_REFE','QT_OPCA_NAVG_LAST','IN_DERV_ATEN_ANY','IN_AUTN_ANY')\n",
    ")"
   ]
  },
  {
   "cell_type": "markdown",
   "metadata": {
    "application/vnd.databricks.v1+cell": {
     "cellMetadata": {
      "byteLimit": 2048000,
      "rowLimit": 10000
     },
     "inputWidgets": {},
     "nuid": "ada69eea-f762-4c51-82d3-3d91d574a902",
     "showTitle": false,
     "tableResultSettingsMap": {},
     "title": ""
    }
   },
   "source": [
    "## 2) Chamadas\n"
   ]
  },
  {
   "cell_type": "code",
   "execution_count": 0,
   "metadata": {
    "application/vnd.databricks.v1+cell": {
     "cellMetadata": {
      "byteLimit": 2048000,
      "rowLimit": 10000
     },
     "inputWidgets": {},
     "nuid": "6c6cffb5-2624-4bd2-81bb-5caa63e4c1a5",
     "showTitle": false,
     "tableResultSettingsMap": {},
     "title": ""
    }
   },
   "outputs": [],
   "source": [
    "df_tabe_calls = (\n",
    "    spark.table('prd.s_dm_callcenter.tabe_calls')\n",
    "    .filter(F.col('DT_INIC') == odate) \n",
    "    .withColumn('TEMPO_CHAMADA', F.unix_timestamp('DH_FIM') - F.unix_timestamp('DH_INIC'))\n",
    "    .groupBy('ID_CHAM')\n",
    "    .agg(\n",
    "        F.count('*').alias('QT_CHAM_ATEN_HUMN'),\n",
    "        F.sum(F.coalesce(F.col('IN_TRAF'), F.lit(0))).alias('QT_TRAF'),\n",
    "        F.sum(F.coalesce(F.col('IN_TRAF_INDV'), F.lit(0))).alias('QT_TRAF_INDV'),\n",
    "        F.sum('TEMPO_CHAMADA').alias('NR_TEMP_CHAM')\n",
    "    )\n",
    ")"
   ]
  },
  {
   "cell_type": "markdown",
   "metadata": {
    "application/vnd.databricks.v1+cell": {
     "cellMetadata": {
      "byteLimit": 2048000,
      "rowLimit": 10000
     },
     "inputWidgets": {},
     "nuid": "17e92dd4-ee0b-41ae-adfd-85a06e37a2cb",
     "showTitle": false,
     "tableResultSettingsMap": {},
     "title": ""
    }
   },
   "source": [
    "## 3) Join + Métricas agregadas"
   ]
  },
  {
   "cell_type": "code",
   "execution_count": 0,
   "metadata": {
    "application/vnd.databricks.v1+cell": {
     "cellMetadata": {
      "byteLimit": 2048000,
      "rowLimit": 10000
     },
     "inputWidgets": {},
     "nuid": "44f3c2fd-b8de-4d2c-9bed-7f21b09dcf1e",
     "showTitle": false,
     "tableResultSettingsMap": {},
     "title": ""
    }
   },
   "outputs": [],
   "source": [
    "df_join = (\n",
    "    df_tabe_ura.alias('ura')\n",
    "    .join(df_tabe_calls.alias('c'), 'ID_CHAM', 'left')\n",
    "    .withColumn('QT_CHAM_ATEN_HUMN', F.coalesce(F.col('QT_CHAM_ATEN_HUMN'), F.lit(0)))\n",
    "    .withColumn('QT_TRAF',           F.coalesce(F.col('QT_TRAF'), F.lit(0)))\n",
    "    .withColumn('QT_TRAF_INDV',      F.coalesce(F.col('QT_TRAF_INDV'), F.lit(0)))\n",
    "    .withColumn('NR_TEMP_CHAM',      F.coalesce(F.col('NR_TEMP_CHAM'), F.lit(0.0)))\n",
    "\n",
    "    .groupBy('CD_PERI', 'DT_REFE', 'ID_FILA')\n",
    "    .agg(\n",
    "        F.round(F.avg('QT_OPCA_NAVG_LAST'), 2).alias('NR_MED_OPCA_NAVG'),\n",
    "        F.round(F.avg(F.when(F.col('IN_DERV_ATEN_ANY') == 0, F.col('QT_OPCA_NAVG_LAST'))), 2).alias('NR_MED_OPCA_AUTO_SERV'),\n",
    "        F.round(F.avg(F.when(F.col('IN_DERV_ATEN_ANY') == 1, F.col('QT_OPCA_NAVG_LAST'))), 2).alias('NR_MED_OPCA_DERV'),\n",
    "        F.sum('IN_AUTN_ANY').alias('QT_AUTN'),\n",
    "        F.sum('IN_DERV_ATEN_ANY').alias('QT_DERV_ATEN'),\n",
    "        F.sum('QT_CHAM_ATEN_HUMN').alias('QT_CHAM_ATEN_HUMN'),\n",
    "        F.sum('QT_TRAF').alias('QT_TRAF'),\n",
    "        F.sum('QT_TRAF_INDV').alias('QT_TRAF_INDV'),\n",
    "        F.round(\n",
    "            F.when(F.sum('QT_CHAM_ATEN_HUMN') > 0, F.sum('NR_TEMP_CHAM') / F.sum('QT_CHAM_ATEN_HUMN'))\n",
    "            .otherwise(F.lit(None)), 2\n",
    "        ).alias('NR_MEDI_TEMP_CHAM')\n",
    "    )\n",
    ")"
   ]
  },
  {
   "cell_type": "markdown",
   "metadata": {
    "application/vnd.databricks.v1+cell": {
     "cellMetadata": {
      "byteLimit": 2048000,
      "rowLimit": 10000
     },
     "inputWidgets": {},
     "nuid": "b7a534ca-8bed-4b1c-8251-3911112cc4d6",
     "showTitle": false,
     "tableResultSettingsMap": {},
     "title": ""
    }
   },
   "source": [
    "## 4) Criação da tabela destino\n",
    "Cria a tabela e aplica `CLUSTER BY (CD_PERI, DT_REFE, ID_ASST)`"
   ]
  },
  {
   "cell_type": "code",
   "execution_count": 0,
   "metadata": {
    "application/vnd.databricks.v1+cell": {
     "cellMetadata": {
      "byteLimit": 2048000,
      "rowLimit": 10000
     },
     "inputWidgets": {},
     "nuid": "a6c4c504-506b-40cf-b4db-985daa32c94e",
     "showTitle": false,
     "tableResultSettingsMap": {},
     "title": ""
    }
   },
   "outputs": [],
   "source": [
    "if not spark.catalog.tableExists('prd.g_dm_callcenter.visao_ura_calls'):\n",
    "    empty = spark.createDataFrame([], df_join.schema)\n",
    "    (empty.write\n",
    "        .format(\"delta\")\n",
    "        .mode(\"overwrite\")\n",
    "        .saveAsTable('prd.g_dm_callcenter.visao_ura_calls'))\n",
    "    spark.sql(f\"ALTER TABLE {'prd.g_dm_callcenter.visao_ura_calls'} CLUSTER BY (CD_PERI, DT_REFE, ID_FILA)\")\n",
    "\n",
    "df_join.write \\\n",
    "    .mode('overwrite') \\\n",
    "    .option('replaceWhere', f\"DT_REFE = '{odate}'\") \\\n",
    "    .saveAsTable('prd.g_dm_callcenter.visao_ura_calls')"
   ]
  }
 ],
 "metadata": {
  "application/vnd.databricks.v1+notebook": {
   "computePreferences": null,
   "dashboards": [],
   "environmentMetadata": null,
   "inputWidgetPreferences": null,
   "language": "python",
   "notebookMetadata": {
    "pythonIndentUnit": 4
   },
   "notebookName": "visao_ura_calls",
   "widgets": {}
  },
  "language_info": {
   "name": "python"
  }
 },
 "nbformat": 4,
 "nbformat_minor": 0
}