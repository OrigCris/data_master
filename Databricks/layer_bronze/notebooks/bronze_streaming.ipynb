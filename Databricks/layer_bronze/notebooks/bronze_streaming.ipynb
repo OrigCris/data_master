{
 "cells": [
  {
   "cell_type": "markdown",
   "id": "342800a8",
   "metadata": {},
   "source": [
    "\n",
    "# Bronze — Event Hubs\n",
    "\n",
    "**Padrão adotado (engenharia):**\n",
    "- **Conexão**: Event Hubs (secret em AKV via Secret Scope)\n",
    "- **Persistência**: Delta **managed** em `catalog.schema.table` (Unity Catalog)\n",
    "- **Clustering**: **Delta Liquid Clustering** por `ingestion_date`\n",
    "- **Trigger**: `once`\n"
   ]
  },
  {
   "cell_type": "markdown",
   "id": "af069918",
   "metadata": {},
   "source": [
    "## Parâmetros (Widgets)"
   ]
  },
  {
   "cell_type": "code",
   "execution_count": null,
   "id": "7435f9e9",
   "metadata": {},
   "outputs": [],
   "source": [
    "CATALOG           = dbutils.widgets.get(\"catalog\")\n",
    "SCHEMA            = dbutils.widgets.get(\"schema\")\n",
    "TABLE_NAME        = dbutils.widgets.get(\"table_name\")\n",
    "EVENTHUB_NAME     = dbutils.widgets.get(\"eventhub_name\")\n",
    "SECRET_SCOPE      = dbutils.widgets.get(\"secret_scope\")\n",
    "SECRET_KEY        = dbutils.widgets.get(\"secret_key\")\n",
    "CHECKPOINT_BASE   = dbutils.widgets.get(\"checkpoint_base\").rstrip(\"/\")\n",
    "\n",
    "assert TABLE_NAME,     \"Param 'table_name' é obrigatório\"\n",
    "assert EVENTHUB_NAME,  \"Param 'eventhub_name' é obrigatório\"\n",
    "assert SECRET_SCOPE,   \"Param 'secret_scope' é obrigatório\"\n",
    "assert SECRET_KEY,     \"Param 'secret_key' é obrigatório\"\n",
    "\n",
    "FQN = f\"{CATALOG}.{SCHEMA}.{TABLE_NAME}\"\n",
    "print(f\"Destino: {FQN}\")"
   ]
  },
  {
   "cell_type": "markdown",
   "id": "0b7096cb",
   "metadata": {},
   "source": [
    "## Imports & Helpers"
   ]
  },
  {
   "cell_type": "code",
   "execution_count": null,
   "id": "bae805cb",
   "metadata": {},
   "outputs": [],
   "source": [
    "\n",
    "# COMMAND ----------\n",
    "from pyspark.sql import functions as F, types as T, Window as W\n",
    "\n",
    "def _read_secret(scope: str, key: str) -> str:\n",
    "    try:\n",
    "        return dbutils.secrets.get(scope=scope, key=key)\n",
    "    except Exception as e:\n",
    "        raise RuntimeError(f\"Falha ao ler secret '{scope}:{key}'. Verifique Secret Scope/AKV. Detalhe: {e}\")\n",
    "\n",
    "def _ensure_table_with_liquid(fqn: str):\n",
    "    # cria a tabela se não existir e habilita liquid clustering por ingestion_date\n",
    "    if not spark.catalog.tableExists(fqn):\n",
    "        spark.sql(f\"\"\"\n",
    "            CREATE TABLE IF NOT EXISTS {fqn} (\n",
    "              body             STRING,\n",
    "              partition        INT,\n",
    "              offset           STRING,\n",
    "              sequenceNumber   LONG,\n",
    "              enqueuedTime     TIMESTAMP,\n",
    "              partitionKey     STRING,\n",
    "              ingestion_ts     TIMESTAMP,\n",
    "              ingestion_date   DATE\n",
    "            )\n",
    "            USING DELTA\n",
    "            CLUSTER BY (ingestion_date)\n",
    "        \"\"\")\n",
    "        spark.sql(f\"ALTER TABLE {fqn} SET TBLPROPERTIES (delta.enableChangeDataFeed = true)\")\n"
   ]
  },
  {
   "cell_type": "markdown",
   "id": "f815cdc9",
   "metadata": {},
   "source": [
    "## Conexão: Event Hubs"
   ]
  },
  {
   "cell_type": "code",
   "execution_count": null,
   "id": "1979ea7a",
   "metadata": {},
   "outputs": [],
   "source": [
    "conn_str = _read_secret(SECRET_SCOPE, SECRET_KEY)\n",
    "eh_options = {\n",
    "   'eventhubs.connectionString': sc._jvm.org.apache.spark.eventhubs.EventHubsUtils.encrypt(f\"{conn_str};EntityPath={EVENTHUB_NAME}\"),\n",
    "    'eventhubs.startingPosition': '{\"offset\": \"-1\", \"seqNo\": -1, \"enqueuedTime\": null, \"isInclusive\": true}'\n",
    "}"
   ]
  },
  {
   "cell_type": "markdown",
   "id": "374b9181",
   "metadata": {},
   "source": [
    "## Criação/garantia da tabela"
   ]
  },
  {
   "cell_type": "code",
   "execution_count": null,
   "id": "8dc0d0bb",
   "metadata": {},
   "outputs": [],
   "source": [
    "_ensure_table_with_liquid(FQN)\n"
   ]
  },
  {
   "cell_type": "markdown",
   "id": "abf18810",
   "metadata": {},
   "source": [
    "## Leitura"
   ]
  },
  {
   "cell_type": "code",
   "execution_count": null,
   "id": "fa606596",
   "metadata": {},
   "outputs": [],
   "source": [
    "\n",
    "# COMMAND ----------\n",
    "raw = (spark.readStream\n",
    "       .format(\"eventhubs\")\n",
    "       .options(**eh_options)\n",
    "       .load())\n",
    "\n",
    "bronze_df = (\n",
    "    raw.select(\n",
    "        F.col(\"body\").cast(\"string\").alias(\"body\"),\n",
    "        F.col(\"partition\").cast(\"int\").alias(\"partition\"),\n",
    "        F.col(\"offset\").cast(\"string\").alias(\"offset\"),\n",
    "        F.col(\"sequenceNumber\").cast(\"long\").alias(\"sequenceNumber\"),\n",
    "        F.col(\"enqueuedTime\").cast(\"timestamp\").alias(\"enqueuedTime\"),\n",
    "        F.col(\"partitionKey\").cast(\"string\").alias(\"partitionKey\")\n",
    "    )\n",
    "    .withColumn(\"ingestion_ts\",   F.current_timestamp())\n",
    "    .withColumn(\"ingestion_date\", F.to_date(\"ingestion_ts\"))\n",
    ")"
   ]
  },
  {
   "cell_type": "markdown",
   "id": "a04cd8c6",
   "metadata": {},
   "source": [
    "## Escrita da tabela"
   ]
  },
  {
   "cell_type": "code",
   "execution_count": null,
   "id": "544ae4c4",
   "metadata": {},
   "outputs": [],
   "source": [
    "checkpoint_path = f\"{CHECKPOINT_BASE}/{EVENTHUB_NAME}/{TABLE_NAME}\"\n",
    "\n",
    "query = (bronze_df.writeStream\n",
    "         .format(\"delta\")\n",
    "         .outputMode(\"append\")\n",
    "         .trigger(once=True)\n",
    "         .option(\"checkpointLocation\", checkpoint_path)\n",
    "         .toTable(FQN))\n",
    "\n",
    "query.awaitTermination()"
   ]
  },
  {
   "cell_type": "markdown",
   "id": "b96320b3",
   "metadata": {},
   "source": [
    "## Telemetria"
   ]
  },
  {
   "cell_type": "code",
   "execution_count": null,
   "id": "4b46d621",
   "metadata": {},
   "outputs": [],
   "source": [
    "print(f\"[OK] Ingestão concluída (trigger once) → {FQN}\")\n",
    "print(f\"Checkpoint: {checkpoint_path}\")\n",
    "\n",
    "progress = query.lastProgress\n",
    "if progress:\n",
    "    print(\"Batch ID:\", progress[\"batchId\"])\n",
    "    print(\"Num Input Rows:\", progress[\"numInputRows\"])\n",
    "    print(\"Processed Rows/s:\", progress[\"processedRowsPerSecond\"])\n",
    "    print(\"Batch Duration (ms):\", progress[\"batchDuration\"])\n",
    "    print(\"Sink:\", progress[\"sink\"][\"description\"])"
   ]
  }
 ],
 "metadata": {
  "language_info": {
   "name": "python"
  }
 },
 "nbformat": 4,
 "nbformat_minor": 5
}
