{
 "cells": [
  {
   "cell_type": "markdown",
   "metadata": {
    "application/vnd.databricks.v1+cell": {
     "cellMetadata": {
      "byteLimit": 2048000,
      "rowLimit": 10000
     },
     "inputWidgets": {},
     "nuid": "556a6a28-9faa-4bb3-9af2-233dd3bcc8e3",
     "showTitle": false,
     "tableResultSettingsMap": {},
     "title": ""
    }
   },
   "source": [
    "\n",
    "# Silver — PESQUISA DE URA\n",
    "\n",
    "Este notebook **atualiza a tabela Silver de PESQUISA DE URA** consumindo **apenas as mudanças** da Bronze por **Change Data Feed (CDF)** e aplicando **MERGE**.\n",
    "O processo usa uma **tabela de controle** que guarda a última versão (`_commit_version`) aplicada.\n",
    "\n",
    "**Fluxo**\n",
    "1. Lê o **marcador** de versão na tabela de controle.\n",
    "2. Lê o **CDF** da Bronze desde esse marcador.\n",
    "3. Faz **parse mínimo** do `body` (JSON) com `StructType`, renomeia colunas e deriva campos de data.\n",
    "4. **Garante** que a Silver exista com o **mesmo schema** do staged (criação segura).\n",
    "5. Aplica **MERGE** por chave de negócio.\n",
    "6. Atualiza o **marcador** com a maior versão aplicada.\n"
   ]
  },
  {
   "cell_type": "markdown",
   "metadata": {
    "application/vnd.databricks.v1+cell": {
     "cellMetadata": {
      "byteLimit": 2048000,
      "rowLimit": 10000
     },
     "inputWidgets": {},
     "nuid": "4796a428-a6fd-40e6-9215-a5aab37146e9",
     "showTitle": false,
     "tableResultSettingsMap": {},
     "title": ""
    }
   },
   "source": [
    "\n",
    "## Parâmetros\n"
   ]
  },
  {
   "cell_type": "code",
   "execution_count": 0,
   "metadata": {
    "application/vnd.databricks.v1+cell": {
     "cellMetadata": {
      "byteLimit": 2048000,
      "rowLimit": 10000
     },
     "inputWidgets": {},
     "nuid": "3aaba309-3f0f-4549-b0b7-dd7307522276",
     "showTitle": false,
     "tableResultSettingsMap": {},
     "title": ""
    }
   },
   "outputs": [
    {
     "name": "stdout",
     "output_type": "stream",
     "text": [
      "Bronze: prd.b_dm_callcenter.surveys_once\n",
      "Silver: prd.s_dm_callcenter.tabe_pesq_ura\n",
      "Ctrl  : prd.s_dm_callcenter.__last_processed_version\n"
     ]
    }
   ],
   "source": [
    "\n",
    "# ===================== PARÂMETROS =====================\n",
    "CATALOG        = \"prd\"\n",
    "BRONZE_SCHEMA  = \"b_dm_callcenter\"\n",
    "SILVER_SCHEMA  = \"s_dm_callcenter\"\n",
    "BRONZE_TABLE   = \"surveys_once\"\n",
    "SILVER_TABLE   = \"tabe_pesq_ura\"\n",
    "\n",
    "# FQNs\n",
    "BRONZE_FQN = f\"{CATALOG}.{BRONZE_SCHEMA}.{BRONZE_TABLE}\"\n",
    "SILVER_FQN = f\"{CATALOG}.{SILVER_SCHEMA}.{SILVER_TABLE}\"\n",
    "\n",
    "# Tabela de controle\n",
    "CTRL_TBL_FQN = f\"{CATALOG}.{SILVER_SCHEMA}.__last_processed_version\"\n",
    "\n",
    "print(\"Bronze:\", BRONZE_FQN)\n",
    "print(\"Silver:\", SILVER_FQN)\n",
    "print(\"Ctrl  :\", CTRL_TBL_FQN)\n"
   ]
  },
  {
   "cell_type": "markdown",
   "metadata": {
    "application/vnd.databricks.v1+cell": {
     "cellMetadata": {
      "byteLimit": 2048000,
      "rowLimit": 10000
     },
     "inputWidgets": {},
     "nuid": "ed453521-11ca-40d9-9f31-e6fe0c91e4a8",
     "showTitle": false,
     "tableResultSettingsMap": {},
     "title": ""
    }
   },
   "source": [
    "## Imports"
   ]
  },
  {
   "cell_type": "code",
   "execution_count": 0,
   "metadata": {
    "application/vnd.databricks.v1+cell": {
     "cellMetadata": {
      "byteLimit": 2048000,
      "rowLimit": 10000
     },
     "inputWidgets": {},
     "nuid": "0059ac2f-850e-4391-a489-8d48e0f8a19d",
     "showTitle": false,
     "tableResultSettingsMap": {},
     "title": ""
    }
   },
   "outputs": [],
   "source": [
    "from pyspark.sql import functions as F, types as T, Window as W"
   ]
  },
  {
   "cell_type": "markdown",
   "metadata": {
    "application/vnd.databricks.v1+cell": {
     "cellMetadata": {
      "byteLimit": 2048000,
      "rowLimit": 10000
     },
     "inputWidgets": {},
     "nuid": "32779050-5711-4ff7-a995-172cfe953525",
     "showTitle": false,
     "tableResultSettingsMap": {},
     "title": ""
    }
   },
   "source": [
    "\n",
    "## Helpers — Tabela de controle\n",
    "Lê/atualiza o marcador de versão.\n"
   ]
  },
  {
   "cell_type": "code",
   "execution_count": 0,
   "metadata": {
    "application/vnd.databricks.v1+cell": {
     "cellMetadata": {
      "byteLimit": 2048000,
      "rowLimit": 10000
     },
     "inputWidgets": {},
     "nuid": "5efaaec1-e626-4342-980d-4f428916359c",
     "showTitle": false,
     "tableResultSettingsMap": {},
     "title": ""
    }
   },
   "outputs": [],
   "source": [
    "\n",
    "def get_last_version(src_fqn: str) -> int:\n",
    "    \"\"\"Retorna a última versão (_commit_version) processada para a fonte.\"\"\"\n",
    "    row = (spark.table(CTRL_TBL_FQN)\n",
    "             .filter(F.col(\"source_table\")==src_fqn)\n",
    "             .select(\"last_version\")\n",
    "             .limit(1)\n",
    "             .collect())\n",
    "    return int(row[0][0]) if row else 0\n",
    "\n",
    "def set_last_version(src_fqn: str, new_version: int):\n",
    "    \"\"\"Atualiza o marcador com a última versão aplicada.\"\"\"\n",
    "    spark.sql(f\"\"\"\n",
    "        MERGE INTO {CTRL_TBL_FQN} t\n",
    "        USING (SELECT '{src_fqn}' AS source_table, {int(new_version)} AS last_version, current_timestamp() AS last_run_at) s\n",
    "        ON t.source_table = s.source_table\n",
    "        WHEN MATCHED THEN UPDATE SET *\n",
    "        WHEN NOT MATCHED THEN INSERT *\n",
    "    \"\"\")\n"
   ]
  },
  {
   "cell_type": "markdown",
   "metadata": {
    "application/vnd.databricks.v1+cell": {
     "cellMetadata": {
      "byteLimit": 2048000,
      "rowLimit": 10000
     },
     "inputWidgets": {},
     "nuid": "d370ccea-3136-4ad2-8602-657985a1a404",
     "showTitle": false,
     "tableResultSettingsMap": {},
     "title": ""
    }
   },
   "source": [
    "## Leitura do CDF da Bronze\n",
    "Lê apenas mudanças a partir do `startingVersion`.\n"
   ]
  },
  {
   "cell_type": "code",
   "execution_count": 0,
   "metadata": {
    "application/vnd.databricks.v1+cell": {
     "cellMetadata": {
      "byteLimit": 2048000,
      "rowLimit": 10000
     },
     "inputWidgets": {},
     "nuid": "a6939ea0-bd60-4337-8b4c-68560082c230",
     "showTitle": false,
     "tableResultSettingsMap": {},
     "title": ""
    }
   },
   "outputs": [],
   "source": [
    "\n",
    "def read_bronze_cdf(src_fqn: str, starting_version: int):\n",
    "    return (spark.read\n",
    "            .format(\"delta\")\n",
    "            .option(\"readChangeFeed\", \"true\")\n",
    "            .option(\"startingVersion\", starting_version)\n",
    "            .table(src_fqn))\n"
   ]
  },
  {
   "cell_type": "markdown",
   "metadata": {
    "application/vnd.databricks.v1+cell": {
     "cellMetadata": {
      "byteLimit": 2048000,
      "rowLimit": 10000
     },
     "inputWidgets": {},
     "nuid": "a852efb4-368f-4338-b7bf-8c7851cb6ef2",
     "showTitle": false,
     "tableResultSettingsMap": {},
     "title": ""
    }
   },
   "source": [
    "\n",
    "## Transformação\n"
   ]
  },
  {
   "cell_type": "code",
   "execution_count": 0,
   "metadata": {
    "application/vnd.databricks.v1+cell": {
     "cellMetadata": {
      "byteLimit": 2048000,
      "rowLimit": 10000
     },
     "inputWidgets": {},
     "nuid": "a7ac4599-39f7-4c9c-b908-d8404a94819d",
     "showTitle": false,
     "tableResultSettingsMap": {},
     "title": ""
    }
   },
   "outputs": [],
   "source": [
    "def transform(df_raw):\n",
    "    # Schema do JSON\n",
    "    schema = T.StructType([\n",
    "        T.StructField(\"id_chamada\", T.StringType(),  True),\n",
    "        T.StructField(\"id_pesquisa\", T.StringType(),  True),\n",
    "        T.StructField(\"data_envio\", T.DateType(), True),\n",
    "        T.StructField(\"nota\", T.IntegerType(), True)\n",
    "    ])\n",
    "\n",
    "    rename = {\n",
    "        'id_chamada':     'ID_CHAM',\n",
    "        'id_pesquisa':    'ID_PESQ',\n",
    "        'data_envio':     'DT_ENVI',\n",
    "        'nota':           'VL_NOTA'\n",
    "    }\n",
    "\n",
    "    df = (df_raw\n",
    "          .withColumn(\"body\", F.from_json(F.col(\"body\"), schema))\n",
    "          .filter(F.col(\"body\").isNotNull())\n",
    "          .withColumn(\"_cv\", F.col(\"_commit_version\").cast(\"long\"))\n",
    "          .withColumn(\"_ct\", F.col(\"_commit_timestamp\").cast(\"timestamp\"))\n",
    "          .select(\"body.*\", \"_cv\", \"_ct\")\n",
    "    )\n",
    "\n",
    "    # Renomeia as colunas\n",
    "    df = df.select([F.col(c).alias(rename.get(c, c)) for c in df.columns])\n",
    "\n",
    "    # Colunas de DATA do evento e carga\n",
    "    df = (df\n",
    "          .withColumn(\"CD_PERI\", F.date_format(F.col(\"DT_ENVI\"), \"yyyyMM\").cast(\"int\"))\n",
    "          .withColumn(\"DH_REFE_CRGA\", F.current_timestamp())\n",
    "    )\n",
    "    return df\n"
   ]
  },
  {
   "cell_type": "markdown",
   "metadata": {
    "application/vnd.databricks.v1+cell": {
     "cellMetadata": {
      "byteLimit": 2048000,
      "rowLimit": 10000
     },
     "inputWidgets": {},
     "nuid": "d1267c9f-a34d-48d0-bdf5-e9910c080a1e",
     "showTitle": false,
     "tableResultSettingsMap": {},
     "title": ""
    }
   },
   "source": [
    "## Garantir criação da Silver com o **mesmo schema** do staged\n",
    "Cria a tabela **vazia** com o schema do `staged_df` se ela ainda não existir."
   ]
  },
  {
   "cell_type": "code",
   "execution_count": 0,
   "metadata": {
    "application/vnd.databricks.v1+cell": {
     "cellMetadata": {
      "byteLimit": 2048000,
      "rowLimit": 10000
     },
     "inputWidgets": {},
     "nuid": "a97d7298-05d1-44cf-ac95-6d20a32dadea",
     "showTitle": false,
     "tableResultSettingsMap": {},
     "title": ""
    }
   },
   "outputs": [],
   "source": [
    "def ensure_table_exists(silver_fqn: str, staged_df):\n",
    "    parts = silver_fqn.split(\".\")\n",
    "    if len(parts) != 3:\n",
    "        raise ValueError(f\"FQN inválido: {silver_fqn}. Use catalog.schema.table\")\n",
    "\n",
    "    # Checa existência via catálogo\n",
    "    if not spark.catalog.tableExists(silver_fqn):\n",
    "        empty = spark.createDataFrame([], staged_df.schema)\n",
    "        (empty.write\n",
    "              .format(\"delta\")\n",
    "              .mode(\"overwrite\")\n",
    "              .saveAsTable(silver_fqn))\n",
    "        spark.sql(f\"ALTER TABLE {silver_fqn} CLUSTER BY (ID_PESQ)\")"
   ]
  },
  {
   "cell_type": "markdown",
   "metadata": {
    "application/vnd.databricks.v1+cell": {
     "cellMetadata": {
      "byteLimit": 2048000,
      "rowLimit": 10000
     },
     "inputWidgets": {},
     "nuid": "7c6d9d0e-2c4a-45ed-83c1-4a1a63c34f96",
     "showTitle": false,
     "tableResultSettingsMap": {},
     "title": ""
    }
   },
   "source": [
    "## MERGE\n",
    "- **MATCHED** → `UPDATE SET *`\n",
    "- **NOT MATCHED** → `INSERT *`"
   ]
  },
  {
   "cell_type": "code",
   "execution_count": 0,
   "metadata": {
    "application/vnd.databricks.v1+cell": {
     "cellMetadata": {
      "byteLimit": 2048000,
      "rowLimit": 10000
     },
     "inputWidgets": {},
     "nuid": "55d725d2-726c-4278-82e8-c79f17a50715",
     "showTitle": false,
     "tableResultSettingsMap": {},
     "title": ""
    }
   },
   "outputs": [],
   "source": [
    "def merge(silver_fqn: str, staged_df, keys):\n",
    "    ensure_table_exists(silver_fqn, staged_df)\n",
    "    staged_df.createOrReplaceTempView(\"_stg_silver_pesq_ura\")\n",
    "    on_clause = \" AND \".join([f\"S.{k} = C.{k}\" for k in keys])\n",
    "    spark.sql(f\"\"\"\n",
    "        MERGE INTO {silver_fqn} AS S\n",
    "        USING _stg_silver_pesq_ura AS C\n",
    "        ON {on_clause}\n",
    "        WHEN MATCHED THEN UPDATE SET *\n",
    "        WHEN NOT MATCHED THEN INSERT *\n",
    "    \"\"\")"
   ]
  },
  {
   "cell_type": "markdown",
   "metadata": {
    "application/vnd.databricks.v1+cell": {
     "cellMetadata": {
      "byteLimit": 2048000,
      "rowLimit": 10000
     },
     "inputWidgets": {},
     "nuid": "0a8b0529-3f1a-4176-8140-eaf12307edbe",
     "showTitle": false,
     "tableResultSettingsMap": {},
     "title": ""
    }
   },
   "source": [
    "\n",
    "## ▶️ Execução\n",
    "1) Lê marcador → 2) Lê CDF → 3) Filtra inserts → 4) Transforma → 5) MERGE → 6) Atualiza marcador.\n"
   ]
  },
  {
   "cell_type": "code",
   "execution_count": 0,
   "metadata": {
    "application/vnd.databricks.v1+cell": {
     "cellMetadata": {
      "byteLimit": 2048000,
      "rowLimit": 10000
     },
     "inputWidgets": {},
     "nuid": "b907f861-c1a8-4dbb-918d-f83ac07028a8",
     "showTitle": false,
     "tableResultSettingsMap": {},
     "title": ""
    }
   },
   "outputs": [
    {
     "name": "stdout",
     "output_type": "stream",
     "text": [
      "Última versão processada (CDF) para prd.b_dm_callcenter.surveys_once: 2\n",
      "Marcador atualizado → last_version = 96\n",
      "[OK] Silver URA atualizada com CDF.\n"
     ]
    }
   ],
   "source": [
    "# 1) marcador\n",
    "last_v = get_last_version(BRONZE_FQN)\n",
    "print(f\"Última versão processada (CDF) para {BRONZE_FQN}: {last_v}\")\n",
    "\n",
    "# 2) CDF\n",
    "df_bronze = read_bronze_cdf(BRONZE_FQN, starting_version=last_v)\n",
    "\n",
    "# 3) Capturando as mudanças\n",
    "df_cdf = df_bronze.filter(F.col(\"_change_type\").isin(\"insert\"))\n",
    "\n",
    "# 4) TRANSFORMAÇÃO\n",
    "df_staged = transform(df_cdf)\n",
    "\n",
    "# 5) MERGE\n",
    "merge(SILVER_FQN, df_staged, keys=[\"ID_CHAM\"])\n",
    "\n",
    "# 6) atualizar marcador com a MAIOR versão\n",
    "max_version = df_cdf.agg(F.max(\"_commit_version\")).first()[0]\n",
    "if max_version is not None:\n",
    "    set_last_version(BRONZE_FQN, int(max_version))\n",
    "    print(f\"Marcador atualizado → last_version = {int(max_version)}\")\n",
    "else:\n",
    "    print(\"Nenhuma mudança nova no CDF (nada a atualizar).\")"
   ]
  }
 ],
 "metadata": {
  "application/vnd.databricks.v1+notebook": {
   "computePreferences": null,
   "dashboards": [],
   "environmentMetadata": null,
   "inputWidgetPreferences": null,
   "language": "python",
   "notebookMetadata": {
    "pythonIndentUnit": 4
   },
   "notebookName": "silver_pesq_ura",
   "widgets": {}
  },
  "kernelspec": {
   "display_name": "Python 3",
   "language": "python",
   "name": "python3"
  },
  "language_info": {
   "name": "python"
  }
 },
 "nbformat": 4,
 "nbformat_minor": 0
}
