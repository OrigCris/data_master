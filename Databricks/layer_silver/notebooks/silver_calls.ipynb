{
 "cells": [
  {
   "cell_type": "markdown",
   "metadata": {
    "application/vnd.databricks.v1+cell": {
     "cellMetadata": {
      "byteLimit": 2048000,
      "rowLimit": 10000
     },
     "inputWidgets": {},
     "nuid": "d9f8eb4a-e47b-4285-b70b-88da494a7e2c",
     "showTitle": false,
     "tableResultSettingsMap": {},
     "title": ""
    }
   },
   "source": [
    "# Silver — CALLS\n",
    "\n",
    "Este notebook **atualiza a tabela Silver de CALLS** consumindo **apenas as mudanças** da Bronze por **Change Data Feed (CDF)** e aplicando **MERGE**.\n",
    "O processo usa uma **tabela de controle** que guarda a última versão (`_commit_version`) aplicada.\n",
    "\n",
    "**Fluxo**\n",
    "1. Lê o **marcador** de versão na tabela de controle.\n",
    "2. Lê o **CDF** da Bronze desde esse marcador.\n",
    "3. Faz **parse mínimo** do `body` (JSON) com `StructType`, renomeia colunas e deriva campos de data.\n",
    "4. **Garante** que a Silver exista com o **mesmo schema**.\n",
    "5. Aplica **MERGE** por chave de negócio.\n",
    "6. Atualiza o **marcador** com a maior versão aplicada."
   ]
  },
  {
   "cell_type": "markdown",
   "metadata": {
    "application/vnd.databricks.v1+cell": {
     "cellMetadata": {
      "byteLimit": 2048000,
      "rowLimit": 10000
     },
     "inputWidgets": {},
     "nuid": "13140b01-a103-4887-9f9c-c9defe55e583",
     "showTitle": false,
     "tableResultSettingsMap": {},
     "title": ""
    }
   },
   "source": [
    "\n",
    "## Parâmetros\n"
   ]
  },
  {
   "cell_type": "code",
   "execution_count": 0,
   "metadata": {
    "application/vnd.databricks.v1+cell": {
     "cellMetadata": {
      "byteLimit": 2048000,
      "rowLimit": 10000
     },
     "inputWidgets": {},
     "nuid": "89b42a4f-3e08-4e1e-a708-2cc6da6e718c",
     "showTitle": false,
     "tableResultSettingsMap": {},
     "title": ""
    }
   },
   "outputs": [],
   "source": [
    "# ===================== PARÂMETROS =====================\n",
    "CATALOG        = \"prd\"\n",
    "BRONZE_SCHEMA  = \"b_dm_callcenter\"\n",
    "SILVER_SCHEMA  = \"s_dm_callcenter\"\n",
    "BRONZE_TABLE   = \"calls_once\"\n",
    "SILVER_TABLE   = \"tabe_calls\"\n",
    "\n",
    "# FQNs\n",
    "BRONZE_FQN = f\"{CATALOG}.{BRONZE_SCHEMA}.{BRONZE_TABLE}\"\n",
    "SILVER_FQN = f\"{CATALOG}.{SILVER_SCHEMA}.{SILVER_TABLE}\"\n",
    "\n",
    "# Tabela de controle\n",
    "CTRL_TBL_FQN = f\"{CATALOG}.{SILVER_SCHEMA}.__last_processed_version\"\n",
    "\n",
    "print(\"Bronze:\", BRONZE_FQN)\n",
    "print(\"Silver:\", SILVER_FQN)\n",
    "print(\"Ctrl  :\", CTRL_TBL_FQN)"
   ]
  },
  {
   "cell_type": "markdown",
   "metadata": {
    "application/vnd.databricks.v1+cell": {
     "cellMetadata": {
      "byteLimit": 2048000,
      "rowLimit": 10000
     },
     "inputWidgets": {},
     "nuid": "d3e8dba1-ac7e-47ec-9aa6-b0a68bef6174",
     "showTitle": false,
     "tableResultSettingsMap": {},
     "title": ""
    }
   },
   "source": [
    "## Imports"
   ]
  },
  {
   "cell_type": "code",
   "execution_count": 0,
   "metadata": {
    "application/vnd.databricks.v1+cell": {
     "cellMetadata": {
      "byteLimit": 2048000,
      "rowLimit": 10000
     },
     "inputWidgets": {},
     "nuid": "52145755-f816-4ff3-ba28-84460043b6ca",
     "showTitle": false,
     "tableResultSettingsMap": {},
     "title": ""
    }
   },
   "outputs": [],
   "source": [
    "\n",
    "from pyspark.sql import functions as F, types as T, Window as W\n"
   ]
  },
  {
   "cell_type": "markdown",
   "metadata": {
    "application/vnd.databricks.v1+cell": {
     "cellMetadata": {
      "byteLimit": 2048000,
      "rowLimit": 10000
     },
     "inputWidgets": {},
     "nuid": "d0aef065-6055-45b6-bf66-db37f9bf35a5",
     "showTitle": false,
     "tableResultSettingsMap": {},
     "title": ""
    }
   },
   "source": [
    "\n",
    "## Helpers — Tabela de controle\n",
    "Lê/atualiza o marcador de versão.\n"
   ]
  },
  {
   "cell_type": "code",
   "execution_count": 0,
   "metadata": {
    "application/vnd.databricks.v1+cell": {
     "cellMetadata": {
      "byteLimit": 2048000,
      "rowLimit": 10000
     },
     "inputWidgets": {},
     "nuid": "7a16659b-caf8-4a77-8c76-ddad74311916",
     "showTitle": false,
     "tableResultSettingsMap": {},
     "title": ""
    }
   },
   "outputs": [],
   "source": [
    "def get_last_version(src_fqn: str) -> int:\n",
    "    \"\"\"Retorna a última versão (_commit_version) processada para a fonte.\"\"\"\n",
    "    row = (spark.table(CTRL_TBL_FQN)\n",
    "             .filter(F.col(\"source_table\")==src_fqn)\n",
    "             .select(\"last_version\")\n",
    "             .limit(1)\n",
    "             .collect())\n",
    "    return int(row[0][0]) if row else 0\n",
    "\n",
    "def set_last_version(src_fqn: str, new_version: int):\n",
    "    \"\"\"Atualiza o marcador com a última versão aplicada.\"\"\"\n",
    "    spark.sql(f\"\"\"\n",
    "        MERGE INTO {CTRL_TBL_FQN} t\n",
    "        USING (SELECT '{src_fqn}' AS source_table, {int(new_version)} AS last_version, current_timestamp() AS last_run_at) s\n",
    "        ON t.source_table = s.source_table\n",
    "        WHEN MATCHED THEN UPDATE SET *\n",
    "        WHEN NOT MATCHED THEN INSERT *\n",
    "    \"\"\")"
   ]
  },
  {
   "cell_type": "markdown",
   "metadata": {
    "application/vnd.databricks.v1+cell": {
     "cellMetadata": {
      "byteLimit": 2048000,
      "rowLimit": 10000
     },
     "inputWidgets": {},
     "nuid": "bf2333a1-61ef-47d4-9e2f-55a1856bce82",
     "showTitle": false,
     "tableResultSettingsMap": {},
     "title": ""
    }
   },
   "source": [
    "\n",
    "## Leitura do CDF da Bronze\n",
    "Lê apenas mudanças a partir do `startingVersion`.\n"
   ]
  },
  {
   "cell_type": "code",
   "execution_count": 0,
   "metadata": {
    "application/vnd.databricks.v1+cell": {
     "cellMetadata": {
      "byteLimit": 2048000,
      "rowLimit": 10000
     },
     "inputWidgets": {},
     "nuid": "4f8c21f1-a3d3-4758-9f42-8c24a89dd1c0",
     "showTitle": false,
     "tableResultSettingsMap": {},
     "title": ""
    }
   },
   "outputs": [],
   "source": [
    "def read_bronze_cdf(src_fqn: str, starting_version: int):\n",
    "    return (spark.read\n",
    "            .format(\"delta\")\n",
    "            .option(\"readChangeFeed\", \"true\")\n",
    "            .option(\"startingVersion\", starting_version)\n",
    "            .table(src_fqn))"
   ]
  },
  {
   "cell_type": "markdown",
   "metadata": {
    "application/vnd.databricks.v1+cell": {
     "cellMetadata": {
      "byteLimit": 2048000,
      "rowLimit": 10000
     },
     "inputWidgets": {},
     "nuid": "db2b427c-1136-4ebe-ad6d-51b8ef86f093",
     "showTitle": false,
     "tableResultSettingsMap": {},
     "title": ""
    }
   },
   "source": [
    "\n",
    "## Transformação"
   ]
  },
  {
   "cell_type": "code",
   "execution_count": null,
   "metadata": {
    "application/vnd.databricks.v1+cell": {
     "cellMetadata": {
      "byteLimit": 2048000,
      "rowLimit": 10000
     },
     "inputWidgets": {},
     "nuid": "c2819339-5e49-4098-9f6f-c61a77d226c0",
     "showTitle": false,
     "tableResultSettingsMap": {},
     "title": ""
    }
   },
   "outputs": [],
   "source": [
    "def transform(df_raw):\n",
    "    # Schema do JSON\n",
    "    schema = T.StructType([\n",
    "        T.StructField(\"id_chamada\", T.StringType(), True),\n",
    "        T.StructField(\"id_atendimento\", T.StringType(), True),\n",
    "        T.StructField(\"id_cliente\", T.StringType(), True),\n",
    "        T.StructField(\"id_assistente\", T.IntegerType(), True),\n",
    "        T.StructField(\"data_hora_inicio\", T.TimestampType(), True),\n",
    "        T.StructField(\"data_hora_fim\", T.TimestampType(), True),\n",
    "        T.StructField(\"area_atendimento\", T.StringType(), True),\n",
    "    ])\n",
    "\n",
    "    rename = {\n",
    "        \"id_chamada\":          \"ID_CHAM\",\n",
    "        \"id_atendimento\":      \"ID_ATEN\",\n",
    "        \"id_cliente\":          \"ID_CLIE\",\n",
    "        \"id_assistente\":       \"ID_ASST\",\n",
    "        \"data_hora_inicio\":    \"DH_INIC\",\n",
    "        \"data_hora_fim\":       \"DH_FIM\",\n",
    "        \"area_atendimento\":    \"DS_AREA_ATEN\"\n",
    "    }\n",
    "\n",
    "    df = (df_raw\n",
    "        .withColumn(\"body\", F.from_json(F.col(\"body\"), schema))\n",
    "        .filter(F.col(\"body\").isNotNull())\n",
    "        .select(\"body.*\")\n",
    "    )\n",
    "\n",
    "    # Renomeia as colunas\n",
    "    df = df.select([F.col(c).alias(rename.get(c, c)) for c in df.columns])\n",
    "\n",
    "    # Colunas de DATA do evento e carga\n",
    "    df = df \\\n",
    "        .withColumn('CD_PERI', F.date_format(F.col('DH_INIC'), 'yyyyMM').cast('int')) \\\n",
    "        .withColumn('DT_INIC', F.to_date('DH_INIC')) \\\n",
    "        .withColumn('DT_FIM',  F.to_date('DH_FIM')) \\\n",
    "        .withColumn('DH_REFE_CRGA', F.current_timestamp())\n",
    "\n",
    "    return df"
   ]
  },
  {
   "cell_type": "markdown",
   "metadata": {
    "application/vnd.databricks.v1+cell": {
     "cellMetadata": {
      "byteLimit": 2048000,
      "rowLimit": 10000
     },
     "inputWidgets": {},
     "nuid": "c2632472-4148-4055-acac-46ba329e17bd",
     "showTitle": false,
     "tableResultSettingsMap": {},
     "title": ""
    }
   },
   "source": [
    "## Garantir criação da Silver com o **mesmo schema** do staged\n",
    "Cria a tabela **vazia** com o schema do `staged_df` se ela ainda não existir."
   ]
  },
  {
   "cell_type": "code",
   "execution_count": 0,
   "metadata": {
    "application/vnd.databricks.v1+cell": {
     "cellMetadata": {
      "byteLimit": 2048000,
      "rowLimit": 10000
     },
     "inputWidgets": {},
     "nuid": "edd605ee-cd6c-43c1-846b-7491f50b60ab",
     "showTitle": false,
     "tableResultSettingsMap": {},
     "title": ""
    }
   },
   "outputs": [],
   "source": [
    "def ensure_table_exists(silver_fqn: str, staged_df):\n",
    "    parts = silver_fqn.split(\".\")\n",
    "    if len(parts) != 3:\n",
    "        raise ValueError(f\"FQN inválido: {silver_fqn}. Use catalog.schema.table\")\n",
    "    \n",
    "    # Checa existência via catálogo\n",
    "    if not spark.catalog.tableExists(silver_fqn):\n",
    "        empty = spark.createDataFrame([], staged_df.schema)\n",
    "        (empty.write\n",
    "              .format(\"delta\")\n",
    "              .mode(\"overwrite\")\n",
    "              .saveAsTable(silver_fqn))\n",
    "        spark.sql(f\"ALTER TABLE {silver_fqn} CLUSTER BY (CD_PERI,DT_INIC,ID_CHAM)\")"
   ]
  },
  {
   "cell_type": "markdown",
   "metadata": {
    "application/vnd.databricks.v1+cell": {
     "cellMetadata": {
      "byteLimit": 2048000,
      "rowLimit": 10000
     },
     "inputWidgets": {},
     "nuid": "7e0499b0-417d-4401-a317-300a5c9c9d2e",
     "showTitle": false,
     "tableResultSettingsMap": {},
     "title": ""
    }
   },
   "source": [
    "## MERGE\n",
    "- **MATCHED** → `UPDATE SET *`\n",
    "- **NOT MATCHED** → `INSERT *`"
   ]
  },
  {
   "cell_type": "code",
   "execution_count": 0,
   "metadata": {
    "application/vnd.databricks.v1+cell": {
     "cellMetadata": {
      "byteLimit": 2048000,
      "rowLimit": 10000
     },
     "inputWidgets": {},
     "nuid": "704b02fc-dd8b-4d0b-a573-d295a42d6a48",
     "showTitle": false,
     "tableResultSettingsMap": {},
     "title": ""
    }
   },
   "outputs": [],
   "source": [
    "def merge(silver_fqn: str, staged_df, keys):\n",
    "    ensure_table_exists(silver_fqn, staged_df)\n",
    "    staged_df.createOrReplaceTempView(\"_stg_silver_calls\")\n",
    "    on_clause = \" AND \".join([f\"S.{k} = C.{k}\" for k in keys])\n",
    "    spark.sql(f\"\"\"\n",
    "        MERGE INTO {silver_fqn} AS S\n",
    "        USING _stg_silver_calls AS C\n",
    "        ON {on_clause}\n",
    "        WHEN MATCHED THEN UPDATE SET *\n",
    "        WHEN NOT MATCHED THEN INSERT *\n",
    "    \"\"\")\n"
   ]
  },
  {
   "cell_type": "markdown",
   "metadata": {
    "application/vnd.databricks.v1+cell": {
     "cellMetadata": {
      "byteLimit": 2048000,
      "rowLimit": 10000
     },
     "inputWidgets": {},
     "nuid": "85e89da2-4cc7-4151-a692-2df181ca3131",
     "showTitle": false,
     "tableResultSettingsMap": {},
     "title": ""
    }
   },
   "source": [
    "\n",
    "## ▶️ Execução\n",
    "1) Lê marcador → 2) Lê CDF → 3) Filtra inserts → 4) Transforma → 5) MERGE → 6) Atualiza marcador.\n"
   ]
  },
  {
   "cell_type": "code",
   "execution_count": 0,
   "metadata": {
    "application/vnd.databricks.v1+cell": {
     "cellMetadata": {
      "byteLimit": 2048000,
      "rowLimit": 10000
     },
     "inputWidgets": {},
     "nuid": "0c5c815b-afe6-4ea7-934a-aaa1cdf24e9b",
     "showTitle": false,
     "tableResultSettingsMap": {},
     "title": ""
    }
   },
   "outputs": [],
   "source": [
    "\n",
    "# 1) marcador\n",
    "last_v = get_last_version(BRONZE_FQN)\n",
    "print(f\"Última versão processada (CDF) para {BRONZE_FQN}: {last_v}\")\n",
    "\n",
    "# 2) CDF\n",
    "df_bronze = read_bronze_cdf(BRONZE_FQN, starting_version=last_v)\n",
    "\n",
    "# 3) Capturando as mudanças\n",
    "df_cdf = df_bronze.filter(F.col(\"_change_type\").isin(\"insert\"))\n",
    "\n",
    "# 4) TRANSFORMAÇÃO\n",
    "df_staged = transform(df_cdf)\n",
    "\n",
    "# 5) Aplicando marcações extras\n",
    "lead_asst = F.lead('ID_ASST',1).over(W.partitionBy('ID_CHAM').orderBy(F.asc(F.col('DH_INIC'))))\n",
    "lead_area = F.lead('DS_AREA_ATEN',1).over(W.partitionBy('ID_CHAM').orderBy(F.asc(F.col('DH_INIC'))))\n",
    "\n",
    "df_traf = (\n",
    "    df_staged\n",
    "    .withColumn('IN_TRAF', F.when(lead_asst.isNotNull(), F.lit(1)).otherwise(F.lit(0)))\n",
    "    .withColumn('IN_TRAF_INDV', F.when((F.col('IN_TRAF') == 1) & (F.col('DS_AREA_ATEN') == lead_area), F.lit(1)).otherwise(F.lit(0)))\n",
    ")\n",
    "\n",
    "# 6) MERGE\n",
    "merge(SILVER_FQN, df_traf, keys=[\"ID_CHAM\", \"ID_ATEN\"])\n",
    "\n",
    "# 7) atualizar marcador com a MAIOR versão\n",
    "max_version = df_cdf.agg(F.max(\"_commit_version\")).first()[0]\n",
    "\n",
    "if max_version:\n",
    "    if max_version > last_v:\n",
    "        set_last_version(BRONZE_FQN, int(max_version))\n",
    "        print(f\"Marcador atualizado → last_version = {int(max_version)}\")\n",
    "    else:\n",
    "        print(\"Nenhuma mudança nova no CDF (nada a atualizar).\")\n",
    "else:\n",
    "    print('Marcador vazio')\n"
   ]
  }
 ],
 "metadata": {
  "application/vnd.databricks.v1+notebook": {
   "computePreferences": null,
   "dashboards": [],
   "environmentMetadata": null,
   "inputWidgetPreferences": null,
   "language": "python",
   "notebookMetadata": {
    "mostRecentlyExecutedCommandWithImplicitDF": {
     "commandId": 5735490598339489,
     "dataframes": [
      "_sqldf"
     ]
    },
    "pythonIndentUnit": 4
   },
   "notebookName": "silver_ura_cdf_merge",
   "widgets": {}
  },
  "kernelspec": {
   "display_name": "Python 3",
   "language": "python",
   "name": "python3"
  },
  "language_info": {
   "codemirror_mode": {
    "name": "ipython",
    "version": 3
   },
   "file_extension": ".py",
   "mimetype": "text/x-python",
   "name": "python",
   "nbconvert_exporter": "python",
   "pygments_lexer": "ipython3",
   "version": "3.11.3"
  }
 },
 "nbformat": 4,
 "nbformat_minor": 0
}
