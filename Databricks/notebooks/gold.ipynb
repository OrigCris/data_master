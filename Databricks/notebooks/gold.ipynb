{
 "cells": [
  {
   "cell_type": "markdown",
   "metadata": {
    "application/vnd.databricks.v1+cell": {
     "cellMetadata": {
      "byteLimit": 2048000,
      "rowLimit": 10000
     },
     "inputWidgets": {},
     "nuid": "54b603ec-1b2c-46e4-b8d3-3b6962d02ed3",
     "showTitle": false,
     "tableResultSettingsMap": {},
     "title": ""
    }
   },
   "source": [
    "##### Imports"
   ]
  },
  {
   "cell_type": "code",
   "execution_count": 0,
   "metadata": {
    "application/vnd.databricks.v1+cell": {
     "cellMetadata": {
      "byteLimit": 2048000,
      "rowLimit": 10000
     },
     "inputWidgets": {},
     "nuid": "d25a8ccc-10ef-4848-ad97-bde5974e6929",
     "showTitle": false,
     "tableResultSettingsMap": {},
     "title": ""
    }
   },
   "outputs": [],
   "source": [
    "from pyspark.sql import functions as F"
   ]
  },
  {
   "cell_type": "markdown",
   "metadata": {
    "application/vnd.databricks.v1+cell": {
     "cellMetadata": {
      "byteLimit": 2048000,
      "rowLimit": 10000
     },
     "inputWidgets": {},
     "nuid": "083c90c6-0d5d-4a13-8691-11a3d88fe055",
     "showTitle": false,
     "tableResultSettingsMap": {},
     "title": ""
    }
   },
   "source": [
    "##### Variables"
   ]
  },
  {
   "cell_type": "code",
   "execution_count": 0,
   "metadata": {
    "application/vnd.databricks.v1+cell": {
     "cellMetadata": {
      "byteLimit": 2048000,
      "rowLimit": 10000
     },
     "inputWidgets": {},
     "nuid": "353a4eed-4948-4a24-8d66-46110fb14358",
     "showTitle": false,
     "tableResultSettingsMap": {},
     "title": ""
    }
   },
   "outputs": [],
   "source": [
    "storage_account_name  = \"stacjprd001\"\n",
    "database_name = \"gold_users\"\n",
    "container_name = \"cont-dt-mst\"\n",
    "\n",
    "container_path = f\"abfss://{container_name}@{storage_account_name}.dfs.core.windows.net/gold/{database_name}\"\n",
    "\n",
    "\n",
    "table_country = \"users_country\" \n",
    "table_cards_money_transfer = \"users_cards\"\n",
    "table_employment = \"users_area_premium\"\n",
    "\n",
    "delta_table_country_path = f\"abfss://{container_name}@{storage_account_name}.dfs.core.windows.net/silver/{database_name}/{table_country}\"\n",
    "delta_table_cards_path = f\"abfss://{container_name}@{storage_account_name}.dfs.core.windows.net/silver/{database_name}/{table_cards}\"\n",
    "delta_table_employment_path = f\"abfss://{container_name}@{storage_account_name}.dfs.core.windows.net/silver/{database_name}/{table_employment}\""
   ]
  },
  {
   "cell_type": "markdown",
   "metadata": {
    "application/vnd.databricks.v1+cell": {
     "cellMetadata": {
      "byteLimit": 2048000,
      "rowLimit": 10000
     },
     "inputWidgets": {},
     "nuid": "c5cc017e-cd29-46f6-a2a8-84ecff5e74d5",
     "showTitle": false,
     "tableResultSettingsMap": {},
     "title": ""
    }
   },
   "source": [
    "##### Create Database"
   ]
  },
  {
   "cell_type": "code",
   "execution_count": 0,
   "metadata": {
    "application/vnd.databricks.v1+cell": {
     "cellMetadata": {
      "byteLimit": 2048000,
      "rowLimit": 10000
     },
     "inputWidgets": {},
     "nuid": "161d3638-8cfe-4ee0-833a-19d54ffe53e1",
     "showTitle": false,
     "tableResultSettingsMap": {},
     "title": ""
    }
   },
   "outputs": [
    {
     "output_type": "execute_result",
     "data": {
      "text/plain": [
       "DataFrame[]"
      ]
     },
     "execution_count": 66,
     "metadata": {},
     "output_type": "execute_result"
    }
   ],
   "source": [
    "spark.sql(f\"\"\"CREATE DATABASE IF NOT EXISTS {database_name} LOCATION '{container_path}'\"\"\")"
   ]
  },
  {
   "cell_type": "markdown",
   "metadata": {
    "application/vnd.databricks.v1+cell": {
     "cellMetadata": {
      "byteLimit": 2048000,
      "rowLimit": 10000
     },
     "inputWidgets": {},
     "nuid": "41d07af8-a1da-4d10-ba67-79fced82a75d",
     "showTitle": false,
     "tableResultSettingsMap": {},
     "title": ""
    }
   },
   "source": [
    "##### Get Data from Silver"
   ]
  },
  {
   "cell_type": "code",
   "execution_count": 0,
   "metadata": {
    "application/vnd.databricks.v1+cell": {
     "cellMetadata": {
      "byteLimit": 2048000,
      "rowLimit": 10000
     },
     "inputWidgets": {},
     "nuid": "8b2a064e-408d-4149-8244-e4b5913785a0",
     "showTitle": false,
     "tableResultSettingsMap": {},
     "title": ""
    }
   },
   "outputs": [],
   "source": [
    "df_table_users_clean = spark.table('silver_users.users_clean')"
   ]
  },
  {
   "cell_type": "markdown",
   "metadata": {
    "application/vnd.databricks.v1+cell": {
     "cellMetadata": {
      "byteLimit": 2048000,
      "rowLimit": 10000
     },
     "inputWidgets": {},
     "nuid": "d36c810e-0954-478d-87aa-f127199ed503",
     "showTitle": false,
     "tableResultSettingsMap": {},
     "title": ""
    }
   },
   "source": [
    "##### Gold Tables"
   ]
  },
  {
   "cell_type": "code",
   "execution_count": 0,
   "metadata": {
    "application/vnd.databricks.v1+cell": {
     "cellMetadata": {
      "byteLimit": 2048000,
      "rowLimit": 10000
     },
     "inputWidgets": {},
     "nuid": "14dcfcce-d2d5-4093-ad04-09a35fce8162",
     "showTitle": false,
     "tableResultSettingsMap": {},
     "title": ""
    }
   },
   "outputs": [],
   "source": [
    "df_groupby_country = df_table_users_clean.groupby('DT_REFE_CRGA', 'NM_PAIS', 'NM_ESTADO').agg(\n",
    "    F.count('NM_USUA').alias('QTD_USUA')\n",
    ")\n",
    "\n",
    "df_tp_conta_money_trasfer = df_table_users_clean \\\n",
    "    .filter(F.col('DS_MTD_PGTO') == 'Money transfer') \\\n",
    "    .groupby('DT_REFE_CRGA','TP_CONTA', 'DS_FREQ_PGTO').agg(\n",
    "        F.count('NM_USUA').alias('QTD_USUA')\n",
    "    )\n",
    "\n",
    "df_area_premium = df_table_users_clean.groupby('DT_REFE_CRGA','DS_AREA').agg(\n",
    "    F.sum(F.when(F.col('TP_CONTA') == 'Premium', 1).otherwise(0)).alias('QTD_PREMIUM'),\n",
    "    F.count('NM_USUA').alias('QTD_TOTAL')\n",
    ")"
   ]
  },
  {
   "cell_type": "markdown",
   "metadata": {
    "application/vnd.databricks.v1+cell": {
     "cellMetadata": {
      "byteLimit": 2048000,
      "rowLimit": 10000
     },
     "inputWidgets": {},
     "nuid": "b45d48e4-963b-4e05-8b85-486e652e5a61",
     "showTitle": false,
     "tableResultSettingsMap": {},
     "title": ""
    }
   },
   "source": [
    "##### Write Table"
   ]
  },
  {
   "cell_type": "code",
   "execution_count": 0,
   "metadata": {
    "application/vnd.databricks.v1+cell": {
     "cellMetadata": {
      "byteLimit": 2048000,
      "rowLimit": 10000
     },
     "inputWidgets": {},
     "nuid": "9c94834a-035a-43a5-8aff-876a92d5880a",
     "showTitle": false,
     "tableResultSettingsMap": {},
     "title": ""
    }
   },
   "outputs": [],
   "source": [
    "df_groupby_country.write \\\n",
    "    .format(\"delta\") \\\n",
    "    .mode(\"overwrite\") \\\n",
    "    .partitionBy('DT_REFE_CRGA') \\\n",
    "    .option(\"path\", delta_table_country_path) \\\n",
    "    .saveAsTable(f\"{database_name}.{table_country}\")\n",
    "\n",
    "df_tp_conta_money_trasfer.write \\\n",
    "    .format(\"delta\") \\\n",
    "    .mode(\"overwrite\") \\\n",
    "    .partitionBy('DT_REFE_CRGA') \\\n",
    "    .option(\"path\", delta_table_cards_path) \\\n",
    "    .saveAsTable(f\"{database_name}.{table_cards}\")\n",
    "\n",
    "df_area_premium.write \\\n",
    "    .format(\"delta\") \\\n",
    "    .mode(\"overwrite\") \\\n",
    "    .partitionBy('DT_REFE_CRGA') \\\n",
    "    .option(\"path\", delta_table_employment_path) \\\n",
    "    .saveAsTable(f\"{database_name}.{table_employment}\")"
   ]
  },
  {
   "cell_type": "markdown",
   "metadata": {
    "application/vnd.databricks.v1+cell": {
     "cellMetadata": {
      "byteLimit": 2048000,
      "rowLimit": 10000
     },
     "inputWidgets": {},
     "nuid": "b548d593-a89c-462e-a95f-4ee4ab65dbe9",
     "showTitle": false,
     "tableResultSettingsMap": {},
     "title": ""
    }
   },
   "source": [
    "##### Output"
   ]
  },
  {
   "cell_type": "code",
   "execution_count": 0,
   "metadata": {
    "application/vnd.databricks.v1+cell": {
     "cellMetadata": {
      "byteLimit": 2048000,
      "implicitDf": true,
      "rowLimit": 10000
     },
     "inputWidgets": {},
     "nuid": "96e94b03-6432-4a38-9a06-96546b8f970d",
     "showTitle": false,
     "tableResultSettingsMap": {},
     "title": ""
    }
   },
   "outputs": [
    {
     "output_type": "display_data",
     "data": {
      "text/html": [
       "<style scoped>\n",
       "  .table-result-container {\n",
       "    max-height: 300px;\n",
       "    overflow: auto;\n",
       "  }\n",
       "  table, th, td {\n",
       "    border: 1px solid black;\n",
       "    border-collapse: collapse;\n",
       "  }\n",
       "  th, td {\n",
       "    padding: 5px;\n",
       "  }\n",
       "  th {\n",
       "    text-align: left;\n",
       "  }\n",
       "</style><div class='table-result-container'><table class='table-result'><thead style='background-color: white'><tr><th>DT_REFE_CRGA</th><th>DS_AREA</th><th>QTD_PREMIUM</th><th>QTD_TOTAL</th></tr></thead><tbody><tr><td>2025-02-13</td><td>Work under pressure</td><td>1</td><td>9</td></tr><tr><td>2025-02-13</td><td>Proactive</td><td>0</td><td>11</td></tr><tr><td>2025-02-13</td><td>Organisation</td><td>1</td><td>12</td></tr><tr><td>2025-02-13</td><td>Teamwork</td><td>0</td><td>12</td></tr><tr><td>2025-02-13</td><td>Leadership</td><td>1</td><td>6</td></tr><tr><td>2025-02-13</td><td>Technical savvy</td><td>1</td><td>11</td></tr><tr><td>2025-02-13</td><td>Communication</td><td>2</td><td>10</td></tr><tr><td>2025-02-13</td><td>Networking skills</td><td>0</td><td>8</td></tr><tr><td>2025-02-13</td><td>Fast learner</td><td>0</td><td>3</td></tr><tr><td>2025-02-13</td><td>Confidence</td><td>3</td><td>8</td></tr><tr><td>2025-02-13</td><td>Problem solving</td><td>1</td><td>8</td></tr><tr><td>2025-02-13</td><td>Self-motivated</td><td>0</td><td>2</td></tr></tbody></table></div>"
      ]
     },
     "metadata": {
      "application/vnd.databricks.v1+output": {
       "addedWidgets": {},
       "aggData": [],
       "aggError": "",
       "aggOverflow": false,
       "aggSchema": [],
       "aggSeriesLimitReached": false,
       "aggType": "",
       "arguments": {},
       "columnCustomDisplayInfos": {},
       "data": [
        [
         "2025-02-13",
         "Work under pressure",
         1,
         9
        ],
        [
         "2025-02-13",
         "Proactive",
         0,
         11
        ],
        [
         "2025-02-13",
         "Organisation",
         1,
         12
        ],
        [
         "2025-02-13",
         "Teamwork",
         0,
         12
        ],
        [
         "2025-02-13",
         "Leadership",
         1,
         6
        ],
        [
         "2025-02-13",
         "Technical savvy",
         1,
         11
        ],
        [
         "2025-02-13",
         "Communication",
         2,
         10
        ],
        [
         "2025-02-13",
         "Networking skills",
         0,
         8
        ],
        [
         "2025-02-13",
         "Fast learner",
         0,
         3
        ],
        [
         "2025-02-13",
         "Confidence",
         3,
         8
        ],
        [
         "2025-02-13",
         "Problem solving",
         1,
         8
        ],
        [
         "2025-02-13",
         "Self-motivated",
         0,
         2
        ]
       ],
       "datasetInfos": [],
       "dbfsResultPath": null,
       "isJsonSchema": true,
       "metadata": {
        "createTempViewForImplicitDf": true,
        "dataframeName": "_sqldf",
        "executionCount": 70
       },
       "overflow": false,
       "plotOptions": {
        "customPlotOptions": {},
        "displayType": "table",
        "pivotAggregation": null,
        "pivotColumns": null,
        "xColumns": null,
        "yColumns": null
       },
       "removedWidgets": [],
       "schema": [
        {
         "metadata": "{}",
         "name": "DT_REFE_CRGA",
         "type": "\"string\""
        },
        {
         "metadata": "{}",
         "name": "DS_AREA",
         "type": "\"string\""
        },
        {
         "metadata": "{}",
         "name": "QTD_PREMIUM",
         "type": "\"long\""
        },
        {
         "metadata": "{}",
         "name": "QTD_TOTAL",
         "type": "\"long\""
        }
       ],
       "type": "table"
      }
     },
     "output_type": "display_data"
    }
   ],
   "source": [
    "%sql\n",
    "select * from gold_users.users_area_premium"
   ]
  },
  {
   "cell_type": "code",
   "execution_count": 0,
   "metadata": {
    "application/vnd.databricks.v1+cell": {
     "cellMetadata": {
      "byteLimit": 2048000,
      "implicitDf": true,
      "rowLimit": 10000
     },
     "inputWidgets": {},
     "nuid": "b4a38db5-19c8-4968-90aa-6bf9aeaa6712",
     "showTitle": false,
     "tableResultSettingsMap": {},
     "title": ""
    }
   },
   "outputs": [
    {
     "output_type": "display_data",
     "data": {
      "text/html": [
       "<style scoped>\n",
       "  .table-result-container {\n",
       "    max-height: 300px;\n",
       "    overflow: auto;\n",
       "  }\n",
       "  table, th, td {\n",
       "    border: 1px solid black;\n",
       "    border-collapse: collapse;\n",
       "  }\n",
       "  th, td {\n",
       "    padding: 5px;\n",
       "  }\n",
       "  th {\n",
       "    text-align: left;\n",
       "  }\n",
       "</style><div class='table-result-container'><table class='table-result'><thead style='background-color: white'><tr><th>DT_REFE_CRGA</th><th>TP_CONTA</th><th>DS_FREQ_PGTO</th><th>QTD_USUA</th></tr></thead><tbody><tr><td>2025-02-13</td><td>Standard</td><td>Full subscription</td><td>1</td></tr><tr><td>2025-02-13</td><td>Bronze</td><td>Full subscription</td><td>2</td></tr><tr><td>2025-02-13</td><td>Free Trial</td><td>Annual</td><td>1</td></tr><tr><td>2025-02-13</td><td>Business</td><td>Monthly</td><td>1</td></tr><tr><td>2025-02-13</td><td>Standard</td><td>Payment in advance</td><td>1</td></tr><tr><td>2025-02-13</td><td>Basic</td><td>Payment in advance</td><td>2</td></tr><tr><td>2025-02-13</td><td>Starter</td><td>Annual</td><td>1</td></tr><tr><td>2025-02-13</td><td>Free Trial</td><td>Full subscription</td><td>1</td></tr><tr><td>2025-02-13</td><td>Free Trial</td><td>Payment in advance</td><td>1</td></tr><tr><td>2025-02-13</td><td>Premium</td><td>Annual</td><td>1</td></tr></tbody></table></div>"
      ]
     },
     "metadata": {
      "application/vnd.databricks.v1+output": {
       "addedWidgets": {},
       "aggData": [],
       "aggError": "",
       "aggOverflow": false,
       "aggSchema": [],
       "aggSeriesLimitReached": false,
       "aggType": "",
       "arguments": {},
       "columnCustomDisplayInfos": {},
       "data": [
        [
         "2025-02-13",
         "Standard",
         "Full subscription",
         1
        ],
        [
         "2025-02-13",
         "Bronze",
         "Full subscription",
         2
        ],
        [
         "2025-02-13",
         "Free Trial",
         "Annual",
         1
        ],
        [
         "2025-02-13",
         "Business",
         "Monthly",
         1
        ],
        [
         "2025-02-13",
         "Standard",
         "Payment in advance",
         1
        ],
        [
         "2025-02-13",
         "Basic",
         "Payment in advance",
         2
        ],
        [
         "2025-02-13",
         "Starter",
         "Annual",
         1
        ],
        [
         "2025-02-13",
         "Free Trial",
         "Full subscription",
         1
        ],
        [
         "2025-02-13",
         "Free Trial",
         "Payment in advance",
         1
        ],
        [
         "2025-02-13",
         "Premium",
         "Annual",
         1
        ]
       ],
       "datasetInfos": [],
       "dbfsResultPath": null,
       "isJsonSchema": true,
       "metadata": {
        "createTempViewForImplicitDf": true,
        "dataframeName": "_sqldf",
        "executionCount": 71
       },
       "overflow": false,
       "plotOptions": {
        "customPlotOptions": {},
        "displayType": "table",
        "pivotAggregation": null,
        "pivotColumns": null,
        "xColumns": null,
        "yColumns": null
       },
       "removedWidgets": [],
       "schema": [
        {
         "metadata": "{}",
         "name": "DT_REFE_CRGA",
         "type": "\"string\""
        },
        {
         "metadata": "{}",
         "name": "TP_CONTA",
         "type": "\"string\""
        },
        {
         "metadata": "{}",
         "name": "DS_FREQ_PGTO",
         "type": "\"string\""
        },
        {
         "metadata": "{}",
         "name": "QTD_USUA",
         "type": "\"long\""
        }
       ],
       "type": "table"
      }
     },
     "output_type": "display_data"
    }
   ],
   "source": [
    "%sql\n",
    "select * from gold_users.users_cards"
   ]
  },
  {
   "cell_type": "code",
   "execution_count": 0,
   "metadata": {
    "application/vnd.databricks.v1+cell": {
     "cellMetadata": {
      "byteLimit": 2048000,
      "implicitDf": true,
      "rowLimit": 10000
     },
     "inputWidgets": {},
     "nuid": "cf46118a-8a99-4175-92e1-33fb5d4be72c",
     "showTitle": false,
     "tableResultSettingsMap": {},
     "title": ""
    }
   },
   "outputs": [
    {
     "output_type": "display_data",
     "data": {
      "text/html": [
       "<style scoped>\n",
       "  .table-result-container {\n",
       "    max-height: 300px;\n",
       "    overflow: auto;\n",
       "  }\n",
       "  table, th, td {\n",
       "    border: 1px solid black;\n",
       "    border-collapse: collapse;\n",
       "  }\n",
       "  th, td {\n",
       "    padding: 5px;\n",
       "  }\n",
       "  th {\n",
       "    text-align: left;\n",
       "  }\n",
       "</style><div class='table-result-container'><table class='table-result'><thead style='background-color: white'><tr><th>DT_REFE_CRGA</th><th>NM_PAIS</th><th>NM_ESTADO</th><th>QTD_USUA</th></tr></thead><tbody><tr><td>2025-02-13</td><td>United States</td><td>Kansas</td><td>2</td></tr><tr><td>2025-02-13</td><td>United States</td><td>Arizona</td><td>1</td></tr><tr><td>2025-02-13</td><td>United States</td><td>Arkansas</td><td>2</td></tr><tr><td>2025-02-13</td><td>United States</td><td>North Carolina</td><td>5</td></tr><tr><td>2025-02-13</td><td>United States</td><td>Oregon</td><td>3</td></tr><tr><td>2025-02-13</td><td>United States</td><td>Colorado</td><td>1</td></tr><tr><td>2025-02-13</td><td>United States</td><td>Vermont</td><td>2</td></tr><tr><td>2025-02-13</td><td>United States</td><td>Texas</td><td>1</td></tr><tr><td>2025-02-13</td><td>United States</td><td>West Virginia</td><td>3</td></tr><tr><td>2025-02-13</td><td>United States</td><td>Tennessee</td><td>5</td></tr><tr><td>2025-02-13</td><td>United States</td><td>Oklahoma</td><td>1</td></tr><tr><td>2025-02-13</td><td>United States</td><td>New York</td><td>4</td></tr><tr><td>2025-02-13</td><td>United States</td><td>California</td><td>1</td></tr><tr><td>2025-02-13</td><td>United States</td><td>Connecticut</td><td>3</td></tr><tr><td>2025-02-13</td><td>United States</td><td>Maine</td><td>3</td></tr><tr><td>2025-02-13</td><td>United States</td><td>South Dakota</td><td>3</td></tr><tr><td>2025-02-13</td><td>United States</td><td>Maryland</td><td>3</td></tr><tr><td>2025-02-13</td><td>United States</td><td>New Mexico</td><td>2</td></tr><tr><td>2025-02-13</td><td>United States</td><td>South Carolina</td><td>2</td></tr><tr><td>2025-02-13</td><td>United States</td><td>Washington</td><td>6</td></tr><tr><td>2025-02-13</td><td>United States</td><td>Utah</td><td>2</td></tr><tr><td>2025-02-13</td><td>United States</td><td>Idaho</td><td>2</td></tr><tr><td>2025-02-13</td><td>United States</td><td>Minnesota</td><td>2</td></tr><tr><td>2025-02-13</td><td>United States</td><td>Wisconsin</td><td>4</td></tr><tr><td>2025-02-13</td><td>United States</td><td>Wyoming</td><td>3</td></tr><tr><td>2025-02-13</td><td>United States</td><td>North Dakota</td><td>1</td></tr><tr><td>2025-02-13</td><td>United States</td><td>Iowa</td><td>3</td></tr><tr><td>2025-02-13</td><td>United States</td><td>Indiana</td><td>2</td></tr><tr><td>2025-02-13</td><td>United States</td><td>Nebraska</td><td>3</td></tr><tr><td>2025-02-13</td><td>United States</td><td>Florida</td><td>4</td></tr><tr><td>2025-02-13</td><td>United States</td><td>Nevada</td><td>2</td></tr><tr><td>2025-02-13</td><td>United States</td><td>Pennsylvania</td><td>2</td></tr><tr><td>2025-02-13</td><td>United States</td><td>Georgia</td><td>4</td></tr><tr><td>2025-02-13</td><td>United States</td><td>Missouri</td><td>1</td></tr><tr><td>2025-02-13</td><td>United States</td><td>Mississippi</td><td>3</td></tr><tr><td>2025-02-13</td><td>United States</td><td>Hawaii</td><td>2</td></tr><tr><td>2025-02-13</td><td>United States</td><td>Rhode Island</td><td>1</td></tr><tr><td>2025-02-13</td><td>United States</td><td>Virginia</td><td>1</td></tr><tr><td>2025-02-13</td><td>United States</td><td>New Hampshire</td><td>1</td></tr><tr><td>2025-02-13</td><td>United States</td><td>Kentucky</td><td>1</td></tr><tr><td>2025-02-13</td><td>United States</td><td>Illinois</td><td>2</td></tr><tr><td>2025-02-13</td><td>United States</td><td>New Jersey</td><td>1</td></tr></tbody></table></div>"
      ]
     },
     "metadata": {
      "application/vnd.databricks.v1+output": {
       "addedWidgets": {},
       "aggData": [],
       "aggError": "",
       "aggOverflow": false,
       "aggSchema": [],
       "aggSeriesLimitReached": false,
       "aggType": "",
       "arguments": {},
       "columnCustomDisplayInfos": {},
       "data": [
        [
         "2025-02-13",
         "United States",
         "Kansas",
         2
        ],
        [
         "2025-02-13",
         "United States",
         "Arizona",
         1
        ],
        [
         "2025-02-13",
         "United States",
         "Arkansas",
         2
        ],
        [
         "2025-02-13",
         "United States",
         "North Carolina",
         5
        ],
        [
         "2025-02-13",
         "United States",
         "Oregon",
         3
        ],
        [
         "2025-02-13",
         "United States",
         "Colorado",
         1
        ],
        [
         "2025-02-13",
         "United States",
         "Vermont",
         2
        ],
        [
         "2025-02-13",
         "United States",
         "Texas",
         1
        ],
        [
         "2025-02-13",
         "United States",
         "West Virginia",
         3
        ],
        [
         "2025-02-13",
         "United States",
         "Tennessee",
         5
        ],
        [
         "2025-02-13",
         "United States",
         "Oklahoma",
         1
        ],
        [
         "2025-02-13",
         "United States",
         "New York",
         4
        ],
        [
         "2025-02-13",
         "United States",
         "California",
         1
        ],
        [
         "2025-02-13",
         "United States",
         "Connecticut",
         3
        ],
        [
         "2025-02-13",
         "United States",
         "Maine",
         3
        ],
        [
         "2025-02-13",
         "United States",
         "South Dakota",
         3
        ],
        [
         "2025-02-13",
         "United States",
         "Maryland",
         3
        ],
        [
         "2025-02-13",
         "United States",
         "New Mexico",
         2
        ],
        [
         "2025-02-13",
         "United States",
         "South Carolina",
         2
        ],
        [
         "2025-02-13",
         "United States",
         "Washington",
         6
        ],
        [
         "2025-02-13",
         "United States",
         "Utah",
         2
        ],
        [
         "2025-02-13",
         "United States",
         "Idaho",
         2
        ],
        [
         "2025-02-13",
         "United States",
         "Minnesota",
         2
        ],
        [
         "2025-02-13",
         "United States",
         "Wisconsin",
         4
        ],
        [
         "2025-02-13",
         "United States",
         "Wyoming",
         3
        ],
        [
         "2025-02-13",
         "United States",
         "North Dakota",
         1
        ],
        [
         "2025-02-13",
         "United States",
         "Iowa",
         3
        ],
        [
         "2025-02-13",
         "United States",
         "Indiana",
         2
        ],
        [
         "2025-02-13",
         "United States",
         "Nebraska",
         3
        ],
        [
         "2025-02-13",
         "United States",
         "Florida",
         4
        ],
        [
         "2025-02-13",
         "United States",
         "Nevada",
         2
        ],
        [
         "2025-02-13",
         "United States",
         "Pennsylvania",
         2
        ],
        [
         "2025-02-13",
         "United States",
         "Georgia",
         4
        ],
        [
         "2025-02-13",
         "United States",
         "Missouri",
         1
        ],
        [
         "2025-02-13",
         "United States",
         "Mississippi",
         3
        ],
        [
         "2025-02-13",
         "United States",
         "Hawaii",
         2
        ],
        [
         "2025-02-13",
         "United States",
         "Rhode Island",
         1
        ],
        [
         "2025-02-13",
         "United States",
         "Virginia",
         1
        ],
        [
         "2025-02-13",
         "United States",
         "New Hampshire",
         1
        ],
        [
         "2025-02-13",
         "United States",
         "Kentucky",
         1
        ],
        [
         "2025-02-13",
         "United States",
         "Illinois",
         2
        ],
        [
         "2025-02-13",
         "United States",
         "New Jersey",
         1
        ]
       ],
       "datasetInfos": [],
       "dbfsResultPath": null,
       "isJsonSchema": true,
       "metadata": {
        "createTempViewForImplicitDf": true,
        "dataframeName": "_sqldf",
        "executionCount": 72
       },
       "overflow": false,
       "plotOptions": {
        "customPlotOptions": {},
        "displayType": "table",
        "pivotAggregation": null,
        "pivotColumns": null,
        "xColumns": null,
        "yColumns": null
       },
       "removedWidgets": [],
       "schema": [
        {
         "metadata": "{}",
         "name": "DT_REFE_CRGA",
         "type": "\"string\""
        },
        {
         "metadata": "{}",
         "name": "NM_PAIS",
         "type": "\"string\""
        },
        {
         "metadata": "{}",
         "name": "NM_ESTADO",
         "type": "\"string\""
        },
        {
         "metadata": "{}",
         "name": "QTD_USUA",
         "type": "\"long\""
        }
       ],
       "type": "table"
      }
     },
     "output_type": "display_data"
    }
   ],
   "source": [
    "%sql\n",
    "select * from gold_users.users_country"
   ]
  }
 ],
 "metadata": {
  "application/vnd.databricks.v1+notebook": {
   "computePreferences": null,
   "dashboards": [],
   "environmentMetadata": {
    "base_environment": "",
    "environment_version": "2"
   },
   "language": "python",
   "notebookMetadata": {
    "mostRecentlyExecutedCommandWithImplicitDF": {
     "commandId": 6623828415023295,
     "dataframes": [
      "_sqldf"
     ]
    },
    "pythonIndentUnit": 4
   },
   "notebookName": "gold",
   "widgets": {}
  },
  "language_info": {
   "name": "python"
  }
 },
 "nbformat": 4,
 "nbformat_minor": 0
}