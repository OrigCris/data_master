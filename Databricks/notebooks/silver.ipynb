{
 "cells": [
  {
   "cell_type": "markdown",
   "metadata": {
    "application/vnd.databricks.v1+cell": {
     "cellMetadata": {
      "byteLimit": 2048000,
      "rowLimit": 10000
     },
     "inputWidgets": {},
     "nuid": "54b603ec-1b2c-46e4-b8d3-3b6962d02ed3",
     "showTitle": false,
     "tableResultSettingsMap": {},
     "title": ""
    }
   },
   "source": [
    "##### Imports"
   ]
  },
  {
   "cell_type": "code",
   "execution_count": 0,
   "metadata": {
    "application/vnd.databricks.v1+cell": {
     "cellMetadata": {
      "byteLimit": 2048000,
      "rowLimit": 10000
     },
     "inputWidgets": {},
     "nuid": "d25a8ccc-10ef-4848-ad97-bde5974e6929",
     "showTitle": false,
     "tableResultSettingsMap": {},
     "title": ""
    }
   },
   "outputs": [],
   "source": [
    "from pyspark.sql import functions as F"
   ]
  },
  {
   "cell_type": "markdown",
   "metadata": {
    "application/vnd.databricks.v1+cell": {
     "cellMetadata": {
      "byteLimit": 2048000,
      "rowLimit": 10000
     },
     "inputWidgets": {},
     "nuid": "083c90c6-0d5d-4a13-8691-11a3d88fe055",
     "showTitle": false,
     "tableResultSettingsMap": {},
     "title": ""
    }
   },
   "source": [
    "##### Variables"
   ]
  },
  {
   "cell_type": "code",
   "execution_count": 0,
   "metadata": {
    "application/vnd.databricks.v1+cell": {
     "cellMetadata": {
      "byteLimit": 2048000,
      "rowLimit": 10000
     },
     "inputWidgets": {},
     "nuid": "353a4eed-4948-4a24-8d66-46110fb14358",
     "showTitle": false,
     "tableResultSettingsMap": {},
     "title": ""
    }
   },
   "outputs": [],
   "source": [
    "storage_account_name  = \"stacjprd001\"\n",
    "database_name = \"silver_users\"\n",
    "\n",
    "table_name = \"users_clean\" \n",
    "container_name = \"cont-dt-mst\"\n",
    "\n",
    "container_path = f\"abfss://{container_name}@{storage_account_name}.dfs.core.windows.net/silver/{database_name}\"\n",
    "delta_table_path = f\"abfss://{container_name}@{storage_account_name}.dfs.core.windows.net/silver/{database_name}/{table_name}\""
   ]
  },
  {
   "cell_type": "markdown",
   "metadata": {
    "application/vnd.databricks.v1+cell": {
     "cellMetadata": {
      "byteLimit": 2048000,
      "rowLimit": 10000
     },
     "inputWidgets": {},
     "nuid": "c5cc017e-cd29-46f6-a2a8-84ecff5e74d5",
     "showTitle": false,
     "tableResultSettingsMap": {},
     "title": ""
    }
   },
   "source": [
    "##### Create Database"
   ]
  },
  {
   "cell_type": "code",
   "execution_count": 0,
   "metadata": {
    "application/vnd.databricks.v1+cell": {
     "cellMetadata": {
      "byteLimit": 2048000,
      "rowLimit": 10000
     },
     "inputWidgets": {},
     "nuid": "161d3638-8cfe-4ee0-833a-19d54ffe53e1",
     "showTitle": false,
     "tableResultSettingsMap": {},
     "title": ""
    }
   },
   "outputs": [
    {
     "output_type": "execute_result",
     "data": {
      "text/plain": [
       "DataFrame[]"
      ]
     },
     "execution_count": 29,
     "metadata": {},
     "output_type": "execute_result"
    }
   ],
   "source": [
    "spark.sql(f\"\"\"CREATE DATABASE IF NOT EXISTS {database_name} LOCATION '{container_path}'\"\"\")"
   ]
  },
  {
   "cell_type": "markdown",
   "metadata": {
    "application/vnd.databricks.v1+cell": {
     "cellMetadata": {
      "byteLimit": 2048000,
      "rowLimit": 10000
     },
     "inputWidgets": {},
     "nuid": "41d07af8-a1da-4d10-ba67-79fced82a75d",
     "showTitle": false,
     "tableResultSettingsMap": {},
     "title": ""
    }
   },
   "source": [
    "##### Get Data from Bronze"
   ]
  },
  {
   "cell_type": "code",
   "execution_count": 0,
   "metadata": {
    "application/vnd.databricks.v1+cell": {
     "cellMetadata": {
      "byteLimit": 2048000,
      "rowLimit": 10000
     },
     "inputWidgets": {},
     "nuid": "8b2a064e-408d-4149-8244-e4b5913785a0",
     "showTitle": false,
     "tableResultSettingsMap": {},
     "title": ""
    }
   },
   "outputs": [],
   "source": [
    "df_table_users = spark.table('bronze_users.users')"
   ]
  },
  {
   "cell_type": "markdown",
   "metadata": {
    "application/vnd.databricks.v1+cell": {
     "cellMetadata": {
      "byteLimit": 2048000,
      "rowLimit": 10000
     },
     "inputWidgets": {},
     "nuid": "d36c810e-0954-478d-87aa-f127199ed503",
     "showTitle": false,
     "tableResultSettingsMap": {},
     "title": ""
    }
   },
   "source": [
    "##### Clean Data"
   ]
  },
  {
   "cell_type": "code",
   "execution_count": 0,
   "metadata": {
    "application/vnd.databricks.v1+cell": {
     "cellMetadata": {
      "byteLimit": 2048000,
      "rowLimit": 10000
     },
     "inputWidgets": {},
     "nuid": "14dcfcce-d2d5-4093-ad04-09a35fce8162",
     "showTitle": false,
     "tableResultSettingsMap": {},
     "title": ""
    }
   },
   "outputs": [],
   "source": [
    "df_users_clean = df_table_users\\\n",
    "    .select('dat_ref_carga','first_name','gender', 'employment', 'address', 'subscription') \\\n",
    "    .withColumn(\"employment\", F.expr(\"substring(employment, 2, length(employment) - 2)\")) \\\n",
    "    .withColumn(\"address\", F.expr(\"substring(address, 2, length(address) - 2)\")) \\\n",
    "    .withColumn(\"subscription\", F.expr(\"substring(subscription, 2, length(subscription) - 2)\")) \\\n",
    "    .withColumn(\"DS_CARGO\", F.split(F.col(\"employment\"), \", \")[0]) \\\n",
    "    .withColumn(\"DS_AREA\", F.split(F.col(\"employment\"), \", \")[1]) \\\n",
    "    .withColumn(\"NM_ESTADO\", F.split(F.col(\"address\"), \", \")[4]) \\\n",
    "    .withColumn(\"NM_PAIS\", F.split(F.col(\"address\"), \", \")[5]) \\\n",
    "    .withColumn(\"TP_CONTA\", F.split(F.col(\"subscription\"), \", \")[0]) \\\n",
    "    .withColumn(\"ST_CONTA\", F.split(F.col(\"subscription\"), \", \")[1]) \\\n",
    "    .withColumn(\"DS_MTD_PGTO\", F.split(F.col(\"subscription\"), \", \")[2]) \\\n",
    "    .withColumn(\"DS_FREQ_PGTO\", F.split(F.col(\"subscription\"), \", \")[3]) \\\n",
    "    .withColumnRenamed('gender', 'NM_GENERO')\\\n",
    "    .withColumnRenamed('first_name', 'NM_USUA')\\\n",
    "    .withColumnRenamed('dat_ref_carga', 'DT_REFE_CRGA')\\\n",
    "    .drop('employment','address', 'subscription')"
   ]
  },
  {
   "cell_type": "markdown",
   "metadata": {
    "application/vnd.databricks.v1+cell": {
     "cellMetadata": {
      "byteLimit": 2048000,
      "rowLimit": 10000
     },
     "inputWidgets": {},
     "nuid": "b45d48e4-963b-4e05-8b85-486e652e5a61",
     "showTitle": false,
     "tableResultSettingsMap": {},
     "title": ""
    }
   },
   "source": [
    "##### Write Table"
   ]
  },
  {
   "cell_type": "code",
   "execution_count": 0,
   "metadata": {
    "application/vnd.databricks.v1+cell": {
     "cellMetadata": {
      "byteLimit": 2048000,
      "rowLimit": 10000
     },
     "inputWidgets": {},
     "nuid": "9c94834a-035a-43a5-8aff-876a92d5880a",
     "showTitle": false,
     "tableResultSettingsMap": {},
     "title": ""
    }
   },
   "outputs": [],
   "source": [
    "df_users_clean.write \\\n",
    "    .format(\"delta\") \\\n",
    "    .mode(\"overwrite\") \\\n",
    "    .partitionBy('DT_REFE_CRGA') \\\n",
    "    .option(\"path\", delta_table_path) \\\n",
    "    .saveAsTable(f\"{database_name}.{table_name}\")"
   ]
  },
  {
   "cell_type": "markdown",
   "metadata": {
    "application/vnd.databricks.v1+cell": {
     "cellMetadata": {
      "byteLimit": 2048000,
      "rowLimit": 10000
     },
     "inputWidgets": {},
     "nuid": "b548d593-a89c-462e-a95f-4ee4ab65dbe9",
     "showTitle": false,
     "tableResultSettingsMap": {},
     "title": ""
    }
   },
   "source": [
    "##### Output"
   ]
  },
  {
   "cell_type": "code",
   "execution_count": 0,
   "metadata": {
    "application/vnd.databricks.v1+cell": {
     "cellMetadata": {
      "byteLimit": 2048000,
      "implicitDf": true,
      "rowLimit": 10000
     },
     "inputWidgets": {},
     "nuid": "96e94b03-6432-4a38-9a06-96546b8f970d",
     "showTitle": false,
     "tableResultSettingsMap": {},
     "title": ""
    }
   },
   "outputs": [
    {
     "output_type": "display_data",
     "data": {
      "text/html": [
       "<style scoped>\n",
       "  .table-result-container {\n",
       "    max-height: 300px;\n",
       "    overflow: auto;\n",
       "  }\n",
       "  table, th, td {\n",
       "    border: 1px solid black;\n",
       "    border-collapse: collapse;\n",
       "  }\n",
       "  th, td {\n",
       "    padding: 5px;\n",
       "  }\n",
       "  th {\n",
       "    text-align: left;\n",
       "  }\n",
       "</style><div class='table-result-container'><table class='table-result'><thead style='background-color: white'><tr><th>DT_REFE_CRGA</th><th>NM_USUA</th><th>NM_GENERO</th><th>DS_CARGO</th><th>DS_AREA</th><th>NM_ESTADO</th><th>NM_PAIS</th><th>TP_CONTA</th><th>ST_CONTA</th><th>DS_MTD_PGTO</th><th>DS_FREQ_PGTO</th></tr></thead><tbody><tr><td>2025-02-13</td><td>Keeley</td><td>Agender</td><td>Consulting Manager</td><td>Teamwork</td><td>Indiana</td><td>United States</td><td>Bronze</td><td>Active</td><td>Bitcoins</td><td>Full subscription</td></tr><tr><td>2025-02-13</td><td>Kenton</td><td>Agender</td><td>Senior Education Representative</td><td>Problem solving</td><td>Nebraska</td><td>United States</td><td>Essential</td><td>Idle</td><td>Cash</td><td>Full subscription</td></tr><tr><td>2025-02-13</td><td>Maryanne</td><td>Polygender</td><td>Retail Liaison</td><td>Networking skills</td><td>Iowa</td><td>United States</td><td>Business</td><td>Blocked</td><td>Apple Pay</td><td>Monthly</td></tr><tr><td>2025-02-13</td><td>Colin</td><td>Male</td><td>Regional Government Supervisor</td><td>Self-motivated</td><td>Pennsylvania</td><td>United States</td><td>Essential</td><td>Idle</td><td>Google Pay</td><td>Payment in advance</td></tr><tr><td>2025-02-13</td><td>Guy</td><td>Polygender</td><td>Mining Specialist</td><td>Confidence</td><td>Utah</td><td>United States</td><td>Standard</td><td>Blocked</td><td>Credit card</td><td>Full subscription</td></tr><tr><td>2025-02-13</td><td>Delbert</td><td>Female</td><td>Future Liaison</td><td>Problem solving</td><td>Florida</td><td>United States</td><td>Diamond</td><td>Pending</td><td>Cash</td><td>Annual</td></tr><tr><td>2025-02-13</td><td>Sharmaine</td><td>Genderfluid</td><td>Chief Officer</td><td>Networking skills</td><td>Idaho</td><td>United States</td><td>Gold</td><td>Active</td><td>Cash</td><td>Payment in advance</td></tr><tr><td>2025-02-13</td><td>Allyn</td><td>Genderfluid</td><td>National Government Supervisor</td><td>Work under pressure</td><td>Maine</td><td>United States</td><td>Free Trial</td><td>Blocked</td><td>WeChat Pay</td><td>Annual</td></tr><tr><td>2025-02-13</td><td>Faviola</td><td>Bigender</td><td>Future Orchestrator</td><td>Technical savvy</td><td>Arkansas</td><td>United States</td><td>Standard</td><td>Active</td><td>WeChat Pay</td><td>Payment in advance</td></tr><tr><td>2025-02-13</td><td>Noe</td><td>Male</td><td>District Marketing Producer</td><td>Problem solving</td><td>Indiana</td><td>United States</td><td>Diamond</td><td>Active</td><td>Cheque</td><td>Payment in advance</td></tr><tr><td>2025-02-13</td><td>Chris</td><td>Polygender</td><td>Senior Design Associate</td><td>Work under pressure</td><td>Maryland</td><td>United States</td><td>Free Trial</td><td>Pending</td><td>Debit card</td><td>Annual</td></tr><tr><td>2025-02-13</td><td>Don</td><td>Female</td><td>Internal Mining Representative</td><td>Organisation</td><td>Nevada</td><td>United States</td><td>Professional</td><td>Blocked</td><td>Alipay</td><td>Annual</td></tr><tr><td>2025-02-13</td><td>Maryanne</td><td>Genderfluid</td><td>Administration Supervisor</td><td>Networking skills</td><td>Connecticut</td><td>United States</td><td>Standard</td><td>Blocked</td><td>Paypal</td><td>Payment in advance</td></tr><tr><td>2025-02-13</td><td>Priscila</td><td>Bigender</td><td>Retail Designer</td><td>Technical savvy</td><td>Kansas</td><td>United States</td><td>Business</td><td>Active</td><td>Visa checkout</td><td>Full subscription</td></tr><tr><td>2025-02-13</td><td>Susannah</td><td>Male</td><td>Advertising Officer</td><td>Confidence</td><td>Georgia</td><td>United States</td><td>Silver</td><td>Active</td><td>Credit card</td><td>Full subscription</td></tr><tr><td>2025-02-13</td><td>Leida</td><td>Female</td><td>Sales Administrator</td><td>Organisation</td><td>Nevada</td><td>United States</td><td>Basic</td><td>Idle</td><td>Cheque</td><td>Payment in advance</td></tr><tr><td>2025-02-13</td><td>Chelsea</td><td>Agender</td><td>Healthcare Planner</td><td>Proactive</td><td>Colorado</td><td>United States</td><td>Student</td><td>Active</td><td>WeChat Pay</td><td>Payment in advance</td></tr><tr><td>2025-02-13</td><td>Ethelyn</td><td>Agender</td><td>Legacy Analyst</td><td>Technical savvy</td><td>Utah</td><td>United States</td><td>Essential</td><td>Blocked</td><td>WeChat Pay</td><td>Payment in advance</td></tr><tr><td>2025-02-13</td><td>Sherise</td><td>Female</td><td>District Analyst</td><td>Work under pressure</td><td>North Carolina</td><td>United States</td><td>Free Trial</td><td>Pending</td><td>Money transfer</td><td>Annual</td></tr><tr><td>2025-02-13</td><td>Riley</td><td>Non-binary</td><td>Accounting Administrator</td><td>Fast learner</td><td>South Carolina</td><td>United States</td><td>Essential</td><td>Pending</td><td>Cash</td><td>Full subscription</td></tr><tr><td>2025-02-13</td><td>Pandora</td><td>Bigender</td><td>Sales Analyst</td><td>Organisation</td><td>North Carolina</td><td>United States</td><td>Free Trial</td><td>Idle</td><td>Cheque</td><td>Full subscription</td></tr><tr><td>2025-02-13</td><td>Ellan</td><td>Polygender</td><td>Customer Administration Associate</td><td>Technical savvy</td><td>Maine</td><td>United States</td><td>Starter</td><td>Blocked</td><td>Money transfer</td><td>Annual</td></tr><tr><td>2025-02-13</td><td>Kip</td><td>Non-binary</td><td>Global Manager</td><td>Confidence</td><td>North Dakota</td><td>United States</td><td>Premium</td><td>Active</td><td>Debit card</td><td>Annual</td></tr><tr><td>2025-02-13</td><td>Ethan</td><td>Non-binary</td><td>Product Community-Services Manager</td><td>Leadership</td><td>Arkansas</td><td>United States</td><td>Essential</td><td>Pending</td><td>Bitcoins</td><td>Monthly</td></tr><tr><td>2025-02-13</td><td>Rubye</td><td>Non-binary</td><td>International Coordinator</td><td>Communication</td><td>Nebraska</td><td>United States</td><td>Essential</td><td>Active</td><td>Visa checkout</td><td>Payment in advance</td></tr><tr><td>2025-02-13</td><td>Kenneth</td><td>Genderqueer</td><td>Legal Planner</td><td>Organisation</td><td>California</td><td>United States</td><td>Premium</td><td>Idle</td><td>Alipay</td><td>Payment in advance</td></tr><tr><td>2025-02-13</td><td>Mireya</td><td>Genderqueer</td><td>Real-Estate Director</td><td>Teamwork</td><td>Vermont</td><td>United States</td><td>Free Trial</td><td>Active</td><td>Alipay</td><td>Annual</td></tr><tr><td>2025-02-13</td><td>Sherie</td><td>Bigender</td><td>Community-Services Representative</td><td>Problem solving</td><td>West Virginia</td><td>United States</td><td>Free Trial</td><td>Pending</td><td>Paypal</td><td>Monthly</td></tr><tr><td>2025-02-13</td><td>Hilton</td><td>Non-binary</td><td>Product Agent</td><td>Networking skills</td><td>Maryland</td><td>United States</td><td>Gold</td><td>Blocked</td><td>Google Pay</td><td>Full subscription</td></tr><tr><td>2025-02-13</td><td>Effie</td><td>Polygender</td><td>Human Healthcare Supervisor</td><td>Organisation</td><td>Washington</td><td>United States</td><td>Basic</td><td>Blocked</td><td>WeChat Pay</td><td>Payment in advance</td></tr><tr><td>2025-02-13</td><td>Vikki</td><td>Agender</td><td>Marketing Producer</td><td>Technical savvy</td><td>New Mexico</td><td>United States</td><td>Gold</td><td>Idle</td><td>Debit card</td><td>Monthly</td></tr><tr><td>2025-02-13</td><td>Kandra</td><td>Polygender</td><td>Legacy Specialist</td><td>Communication</td><td>New York</td><td>United States</td><td>Professional</td><td>Pending</td><td>Alipay</td><td>Payment in advance</td></tr><tr><td>2025-02-13</td><td>Hobert</td><td>Female</td><td>Customer Agent</td><td>Organisation</td><td>Oregon</td><td>United States</td><td>Diamond</td><td>Blocked</td><td>Paypal</td><td>Monthly</td></tr><tr><td>2025-02-13</td><td>Ivana</td><td>Polygender</td><td>Manufacturing Architect</td><td>Communication</td><td>Arizona</td><td>United States</td><td>Basic</td><td>Pending</td><td>Cheque</td><td>Annual</td></tr><tr><td>2025-02-13</td><td>Delmar</td><td>Genderfluid</td><td>Dynamic Healthcare Coordinator</td><td>Organisation</td><td>West Virginia</td><td>United States</td><td>Silver</td><td>Blocked</td><td>Google Pay</td><td>Full subscription</td></tr><tr><td>2025-02-13</td><td>Keila</td><td>Genderqueer</td><td>Consulting Representative</td><td>Technical savvy</td><td>Nebraska</td><td>United States</td><td>Bronze</td><td>Idle</td><td>Money transfer</td><td>Full subscription</td></tr><tr><td>2025-02-13</td><td>Rocky</td><td>Polygender</td><td>Central Administration Technician</td><td>Work under pressure</td><td>Tennessee</td><td>United States</td><td>Bronze</td><td>Blocked</td><td>Money transfer</td><td>Full subscription</td></tr><tr><td>2025-02-13</td><td>Emerald</td><td>Bigender</td><td>Future Associate</td><td>Communication</td><td>New York</td><td>United States</td><td>Basic</td><td>Blocked</td><td>Debit card</td><td>Payment in advance</td></tr><tr><td>2025-02-13</td><td>Benjamin</td><td>Bigender</td><td>District Advertising Agent</td><td>Technical savvy</td><td>Oklahoma</td><td>United States</td><td>Premium</td><td>Idle</td><td>Paypal</td><td>Annual</td></tr><tr><td>2025-02-13</td><td>Jacquetta</td><td>Polygender</td><td>National Retail Liaison</td><td>Proactive</td><td>Texas</td><td>United States</td><td>Basic</td><td>Blocked</td><td>Paypal</td><td>Monthly</td></tr><tr><td>2025-02-13</td><td>Mee</td><td>Genderqueer</td><td>Investor Real-Estate Administrator</td><td>Communication</td><td>Georgia</td><td>United States</td><td>Essential</td><td>Blocked</td><td>Debit card</td><td>Full subscription</td></tr><tr><td>2025-02-13</td><td>Jeremy</td><td>Genderqueer</td><td>Government Planner</td><td>Teamwork</td><td>New York</td><td>United States</td><td>Bronze</td><td>Active</td><td>Cheque</td><td>Full subscription</td></tr><tr><td>2025-02-13</td><td>Angela</td><td>Agender</td><td>Dynamic Hospitality Orchestrator</td><td>Communication</td><td>Minnesota</td><td>United States</td><td>Premium</td><td>Blocked</td><td>Credit card</td><td>Payment in advance</td></tr><tr><td>2025-02-13</td><td>Stephen</td><td>Genderqueer</td><td>Chief Marketing Assistant</td><td>Proactive</td><td>Wisconsin</td><td>United States</td><td>Business</td><td>Active</td><td>Apple Pay</td><td>Payment in advance</td></tr><tr><td>2025-02-13</td><td>Lauri</td><td>Male</td><td>Technology Analyst</td><td>Teamwork</td><td>Oregon</td><td>United States</td><td>Free Trial</td><td>Idle</td><td>Paypal</td><td>Annual</td></tr><tr><td>2025-02-13</td><td>Ricardo</td><td>Agender</td><td>National IT Associate</td><td>Leadership</td><td>Oregon</td><td>United States</td><td>Standard</td><td>Pending</td><td>Money transfer</td><td>Full subscription</td></tr><tr><td>2025-02-13</td><td>Beula</td><td>Female</td><td>Regional Technology Agent</td><td>Teamwork</td><td>Iowa</td><td>United States</td><td>Basic</td><td>Blocked</td><td>Bitcoins</td><td>Annual</td></tr><tr><td>2025-02-13</td><td>Branden</td><td>Genderfluid</td><td>Sales Agent</td><td>Teamwork</td><td>Wisconsin</td><td>United States</td><td>Free Trial</td><td>Pending</td><td>Credit card</td><td>Full subscription</td></tr><tr><td>2025-02-13</td><td>Bradford</td><td>Agender</td><td>Community-Services Coordinator</td><td>Problem solving</td><td>Connecticut</td><td>United States</td><td>Diamond</td><td>Blocked</td><td>Credit card</td><td>Annual</td></tr><tr><td>2025-02-13</td><td>Harrison</td><td>Agender</td><td>Senior Legal Administrator</td><td>Problem solving</td><td>West Virginia</td><td>United States</td><td>Basic</td><td>Active</td><td>Money transfer</td><td>Payment in advance</td></tr><tr><td>2025-02-13</td><td>Devon</td><td>Male</td><td>Accounting Agent</td><td>Confidence</td><td>Florida</td><td>United States</td><td>Essential</td><td>Active</td><td>Cheque</td><td>Monthly</td></tr><tr><td>2025-02-13</td><td>Lajuana</td><td>Non-binary</td><td>Marketing Representative</td><td>Proactive</td><td>Missouri</td><td>United States</td><td>Standard</td><td>Active</td><td>Cash</td><td>Annual</td></tr><tr><td>2025-02-13</td><td>Darrell</td><td>Genderqueer</td><td>Corporate Healthcare Coordinator</td><td>Problem solving</td><td>Wisconsin</td><td>United States</td><td>Premium</td><td>Active</td><td>Bitcoins</td><td>Annual</td></tr><tr><td>2025-02-13</td><td>Misti</td><td>Male</td><td>Internal Facilitator</td><td>Teamwork</td><td>Kansas</td><td>United States</td><td>Essential</td><td>Idle</td><td>Paypal</td><td>Annual</td></tr><tr><td>2025-02-13</td><td>Jackeline</td><td>Agender</td><td>Regional Advertising Strategist</td><td>Confidence</td><td>Georgia</td><td>United States</td><td>Essential</td><td>Blocked</td><td>Apple Pay</td><td>Full subscription</td></tr><tr><td>2025-02-13</td><td>Elisha</td><td>Agender</td><td>Government Facilitator</td><td>Work under pressure</td><td>Washington</td><td>United States</td><td>Bronze</td><td>Pending</td><td>Apple Pay</td><td>Annual</td></tr><tr><td>2025-02-13</td><td>Colene</td><td>Female</td><td>Investor Mining Representative</td><td>Proactive</td><td>Wyoming</td><td>United States</td><td>Standard</td><td>Blocked</td><td>Google Pay</td><td>Monthly</td></tr><tr><td>2025-02-13</td><td>Cordia</td><td>Non-binary</td><td>Healthcare Developer</td><td>Fast learner</td><td>Minnesota</td><td>United States</td><td>Business</td><td>Active</td><td>Money transfer</td><td>Monthly</td></tr><tr><td>2025-02-13</td><td>Irvin</td><td>Female</td><td>Chief Sales Specialist</td><td>Leadership</td><td>South Dakota</td><td>United States</td><td>Standard</td><td>Active</td><td>Money transfer</td><td>Payment in advance</td></tr><tr><td>2025-02-13</td><td>Latonia</td><td>Agender</td><td>Central Marketing Architect</td><td>Organisation</td><td>Tennessee</td><td>United States</td><td>Free Trial</td><td>Active</td><td>Money transfer</td><td>Payment in advance</td></tr><tr><td>2025-02-13</td><td>Charley</td><td>Male</td><td>Chief Construction Supervisor</td><td>Proactive</td><td>Tennessee</td><td>United States</td><td>Gold</td><td>Pending</td><td>Alipay</td><td>Monthly</td></tr><tr><td>2025-02-13</td><td>Sylvie</td><td>Genderqueer</td><td>Corporate IT Assistant</td><td>Proactive</td><td>North Carolina</td><td>United States</td><td>Professional</td><td>Blocked</td><td>Cash</td><td>Annual</td></tr><tr><td>2025-02-13</td><td>Sha</td><td>Bigender</td><td>Central Construction Consultant</td><td>Proactive</td><td>Rhode Island</td><td>United States</td><td>Gold</td><td>Active</td><td>Google Pay</td><td>Annual</td></tr><tr><td>2025-02-13</td><td>Stevie</td><td>Agender</td><td>National Consultant</td><td>Work under pressure</td><td>Washington</td><td>United States</td><td>Basic</td><td>Active</td><td>Debit card</td><td>Payment in advance</td></tr><tr><td>2025-02-13</td><td>Isaiah</td><td>Polygender</td><td>Forward Accounting Administrator</td><td>Teamwork</td><td>North Carolina</td><td>United States</td><td>Basic</td><td>Idle</td><td>Cheque</td><td>Annual</td></tr><tr><td>2025-02-13</td><td>Maynard</td><td>Genderqueer</td><td>Mining Facilitator</td><td>Teamwork</td><td>Kentucky</td><td>United States</td><td>Student</td><td>Pending</td><td>Alipay</td><td>Monthly</td></tr><tr><td>2025-02-13</td><td>Hang</td><td>Non-binary</td><td>Manufacturing Representative</td><td>Confidence</td><td>Mississippi</td><td>United States</td><td>Premium</td><td>Pending</td><td>Visa checkout</td><td>Annual</td></tr><tr><td>2025-02-13</td><td>Brooks</td><td>Female</td><td>Internal Supervisor</td><td>Work under pressure</td><td>Maryland</td><td>United States</td><td>Business</td><td>Pending</td><td>WeChat Pay</td><td>Full subscription</td></tr><tr><td>2025-02-13</td><td>Laurence</td><td>Polygender</td><td>Consulting Representative</td><td>Leadership</td><td>South Dakota</td><td>United States</td><td>Bronze</td><td>Active</td><td>Cheque</td><td>Full subscription</td></tr><tr><td>2025-02-13</td><td>Coleman</td><td>Genderfluid</td><td>Customer Construction Technician</td><td>Networking skills</td><td>South Dakota</td><td>United States</td><td>Starter</td><td>Active</td><td>WeChat Pay</td><td>Payment in advance</td></tr><tr><td>2025-02-13</td><td>Doyle</td><td>Genderqueer</td><td>Global Marketing Officer</td><td>Technical savvy</td><td>Florida</td><td>United States</td><td>Basic</td><td>Idle</td><td>Apple Pay</td><td>Annual</td></tr><tr><td>2025-02-13</td><td>Launa</td><td>Agender</td><td>Global Technician</td><td>Proactive</td><td>Florida</td><td>United States</td><td>Business</td><td>Active</td><td>Alipay</td><td>Payment in advance</td></tr><tr><td>2025-02-13</td><td>Jacquelynn</td><td>Male</td><td>Principal Technology Officer</td><td>Leadership</td><td>Tennessee</td><td>United States</td><td>Premium</td><td>Idle</td><td>Debit card</td><td>Payment in advance</td></tr><tr><td>2025-02-13</td><td>Thora</td><td>Genderfluid</td><td>Dynamic Architect</td><td>Organisation</td><td>Hawaii</td><td>United States</td><td>Free Trial</td><td>Active</td><td>Credit card</td><td>Full subscription</td></tr><tr><td>2025-02-13</td><td>Loren</td><td>Polygender</td><td>Forward Marketing Administrator</td><td>Self-motivated</td><td>Vermont</td><td>United States</td><td>Silver</td><td>Pending</td><td>Credit card</td><td>Monthly</td></tr><tr><td>2025-02-13</td><td>Carleen</td><td>Polygender</td><td>Education Liaison</td><td>Teamwork</td><td>Georgia</td><td>United States</td><td>Student</td><td>Active</td><td>WeChat Pay</td><td>Full subscription</td></tr><tr><td>2025-02-13</td><td>Rueben</td><td>Female</td><td>Real-Estate Architect</td><td>Networking skills</td><td>Hawaii</td><td>United States</td><td>Standard</td><td>Pending</td><td>WeChat Pay</td><td>Annual</td></tr><tr><td>2025-02-13</td><td>Earl</td><td>Male</td><td>National Advertising Associate</td><td>Work under pressure</td><td>Wisconsin</td><td>United States</td><td>Premium</td><td>Active</td><td>Money transfer</td><td>Annual</td></tr><tr><td>2025-02-13</td><td>Carl</td><td>Genderqueer</td><td>Mining Executive</td><td>Confidence</td><td>North Carolina</td><td>United States</td><td>Diamond</td><td>Blocked</td><td>Apple Pay</td><td>Annual</td></tr><tr><td>2025-02-13</td><td>Haydee</td><td>Genderfluid</td><td>Dynamic Design Producer</td><td>Organisation</td><td>Washington</td><td>United States</td><td>Basic</td><td>Active</td><td>Cash</td><td>Monthly</td></tr><tr><td>2025-02-13</td><td>Josefine</td><td>Genderqueer</td><td>Future Strategist</td><td>Proactive</td><td>New Hampshire</td><td>United States</td><td>Standard</td><td>Active</td><td>Alipay</td><td>Payment in advance</td></tr><tr><td>2025-02-13</td><td>Venessa</td><td>Genderqueer</td><td>Design Analyst</td><td>Problem solving</td><td>Illinois</td><td>United States</td><td>Silver</td><td>Active</td><td>Google Pay</td><td>Monthly</td></tr><tr><td>2025-02-13</td><td>Myron</td><td>Male</td><td>Corporate Developer</td><td>Communication</td><td>South Carolina</td><td>United States</td><td>Free Trial</td><td>Idle</td><td>Visa checkout</td><td>Monthly</td></tr><tr><td>2025-02-13</td><td>Terese</td><td>Agender</td><td>Farming Analyst</td><td>Technical savvy</td><td>Tennessee</td><td>United States</td><td>Standard</td><td>Blocked</td><td>Debit card</td><td>Annual</td></tr><tr><td>2025-02-13</td><td>Charley</td><td>Bigender</td><td>Corporate Sales Assistant</td><td>Networking skills</td><td>New Jersey</td><td>United States</td><td>Basic</td><td>Active</td><td>Paypal</td><td>Payment in advance</td></tr><tr><td>2025-02-13</td><td>Micha</td><td>Female</td><td>Corporate Legal Manager</td><td>Leadership</td><td>Wyoming</td><td>United States</td><td>Basic</td><td>Pending</td><td>Paypal</td><td>Annual</td></tr><tr><td>2025-02-13</td><td>Jonathon</td><td>Female</td><td>Accounting Administrator</td><td>Teamwork</td><td>Wyoming</td><td>United States</td><td>Standard</td><td>Blocked</td><td>WeChat Pay</td><td>Payment in advance</td></tr><tr><td>2025-02-13</td><td>Louie</td><td>Genderqueer</td><td>Regional Manufacturing Associate</td><td>Communication</td><td>Idaho</td><td>United States</td><td>Premium</td><td>Idle</td><td>Cheque</td><td>Monthly</td></tr><tr><td>2025-02-13</td><td>Mikaela</td><td>Male</td><td>Product Advertising Analyst</td><td>Teamwork</td><td>New York</td><td>United States</td><td>Standard</td><td>Blocked</td><td>WeChat Pay</td><td>Full subscription</td></tr><tr><td>2025-02-13</td><td>Harvey</td><td>Non-binary</td><td>Marketing Representative</td><td>Technical savvy</td><td>Washington</td><td>United States</td><td>Free Trial</td><td>Idle</td><td>Money transfer</td><td>Full subscription</td></tr><tr><td>2025-02-13</td><td>Barry</td><td>Bigender</td><td>Hospitality Administrator</td><td>Communication</td><td>Virginia</td><td>United States</td><td>Gold</td><td>Pending</td><td>WeChat Pay</td><td>Payment in advance</td></tr><tr><td>2025-02-13</td><td>Ardith</td><td>Agender</td><td>Dynamic Marketing Director</td><td>Organisation</td><td>Mississippi</td><td>United States</td><td>Free Trial</td><td>Pending</td><td>Credit card</td><td>Payment in advance</td></tr><tr><td>2025-02-13</td><td>Bertha</td><td>Female</td><td>Chief Design Analyst</td><td>Technical savvy</td><td>Illinois</td><td>United States</td><td>Free Trial</td><td>Active</td><td>Bitcoins</td><td>Monthly</td></tr><tr><td>2025-02-13</td><td>Samantha</td><td>Bigender</td><td>Dynamic Executive</td><td>Fast learner</td><td>Connecticut</td><td>United States</td><td>Gold</td><td>Blocked</td><td>Alipay</td><td>Full subscription</td></tr><tr><td>2025-02-13</td><td>Antonette</td><td>Male</td><td>Principal Liaison</td><td>Networking skills</td><td>Maine</td><td>United States</td><td>Standard</td><td>Active</td><td>Apple Pay</td><td>Annual</td></tr><tr><td>2025-02-13</td><td>Karin</td><td>Bigender</td><td>Technology Consultant</td><td>Work under pressure</td><td>Washington</td><td>United States</td><td>Basic</td><td>Pending</td><td>Apple Pay</td><td>Payment in advance</td></tr><tr><td>2025-02-13</td><td>Tawny</td><td>Genderfluid</td><td>Legacy Construction Manager</td><td>Confidence</td><td>Mississippi</td><td>United States</td><td>Premium</td><td>Idle</td><td>Visa checkout</td><td>Annual</td></tr><tr><td>2025-02-13</td><td>Jeniffer</td><td>Non-binary</td><td>Retail Specialist</td><td>Proactive</td><td>New Mexico</td><td>United States</td><td>Professional</td><td>Blocked</td><td>Bitcoins</td><td>Payment in advance</td></tr><tr><td>2025-02-13</td><td>Vernon</td><td>Polygender</td><td>Legacy Sales Consultant</td><td>Communication</td><td>Iowa</td><td>United States</td><td>Standard</td><td>Active</td><td>Bitcoins</td><td>Full subscription</td></tr><tr><td>2025-02-13</td><td>Bradley</td><td>Polygender</td><td>Accounting Assistant</td><td>Organisation</td><td>Pennsylvania</td><td>United States</td><td>Basic</td><td>Blocked</td><td>Money transfer</td><td>Payment in advance</td></tr></tbody></table></div>"
      ]
     },
     "metadata": {
      "application/vnd.databricks.v1+output": {
       "addedWidgets": {},
       "aggData": [],
       "aggError": "",
       "aggOverflow": false,
       "aggSchema": [],
       "aggSeriesLimitReached": false,
       "aggType": "",
       "arguments": {},
       "columnCustomDisplayInfos": {},
       "data": [
        [
         "2025-02-13",
         "Keeley",
         "Agender",
         "Consulting Manager",
         "Teamwork",
         "Indiana",
         "United States",
         "Bronze",
         "Active",
         "Bitcoins",
         "Full subscription"
        ],
        [
         "2025-02-13",
         "Kenton",
         "Agender",
         "Senior Education Representative",
         "Problem solving",
         "Nebraska",
         "United States",
         "Essential",
         "Idle",
         "Cash",
         "Full subscription"
        ],
        [
         "2025-02-13",
         "Maryanne",
         "Polygender",
         "Retail Liaison",
         "Networking skills",
         "Iowa",
         "United States",
         "Business",
         "Blocked",
         "Apple Pay",
         "Monthly"
        ],
        [
         "2025-02-13",
         "Colin",
         "Male",
         "Regional Government Supervisor",
         "Self-motivated",
         "Pennsylvania",
         "United States",
         "Essential",
         "Idle",
         "Google Pay",
         "Payment in advance"
        ],
        [
         "2025-02-13",
         "Guy",
         "Polygender",
         "Mining Specialist",
         "Confidence",
         "Utah",
         "United States",
         "Standard",
         "Blocked",
         "Credit card",
         "Full subscription"
        ],
        [
         "2025-02-13",
         "Delbert",
         "Female",
         "Future Liaison",
         "Problem solving",
         "Florida",
         "United States",
         "Diamond",
         "Pending",
         "Cash",
         "Annual"
        ],
        [
         "2025-02-13",
         "Sharmaine",
         "Genderfluid",
         "Chief Officer",
         "Networking skills",
         "Idaho",
         "United States",
         "Gold",
         "Active",
         "Cash",
         "Payment in advance"
        ],
        [
         "2025-02-13",
         "Allyn",
         "Genderfluid",
         "National Government Supervisor",
         "Work under pressure",
         "Maine",
         "United States",
         "Free Trial",
         "Blocked",
         "WeChat Pay",
         "Annual"
        ],
        [
         "2025-02-13",
         "Faviola",
         "Bigender",
         "Future Orchestrator",
         "Technical savvy",
         "Arkansas",
         "United States",
         "Standard",
         "Active",
         "WeChat Pay",
         "Payment in advance"
        ],
        [
         "2025-02-13",
         "Noe",
         "Male",
         "District Marketing Producer",
         "Problem solving",
         "Indiana",
         "United States",
         "Diamond",
         "Active",
         "Cheque",
         "Payment in advance"
        ],
        [
         "2025-02-13",
         "Chris",
         "Polygender",
         "Senior Design Associate",
         "Work under pressure",
         "Maryland",
         "United States",
         "Free Trial",
         "Pending",
         "Debit card",
         "Annual"
        ],
        [
         "2025-02-13",
         "Don",
         "Female",
         "Internal Mining Representative",
         "Organisation",
         "Nevada",
         "United States",
         "Professional",
         "Blocked",
         "Alipay",
         "Annual"
        ],
        [
         "2025-02-13",
         "Maryanne",
         "Genderfluid",
         "Administration Supervisor",
         "Networking skills",
         "Connecticut",
         "United States",
         "Standard",
         "Blocked",
         "Paypal",
         "Payment in advance"
        ],
        [
         "2025-02-13",
         "Priscila",
         "Bigender",
         "Retail Designer",
         "Technical savvy",
         "Kansas",
         "United States",
         "Business",
         "Active",
         "Visa checkout",
         "Full subscription"
        ],
        [
         "2025-02-13",
         "Susannah",
         "Male",
         "Advertising Officer",
         "Confidence",
         "Georgia",
         "United States",
         "Silver",
         "Active",
         "Credit card",
         "Full subscription"
        ],
        [
         "2025-02-13",
         "Leida",
         "Female",
         "Sales Administrator",
         "Organisation",
         "Nevada",
         "United States",
         "Basic",
         "Idle",
         "Cheque",
         "Payment in advance"
        ],
        [
         "2025-02-13",
         "Chelsea",
         "Agender",
         "Healthcare Planner",
         "Proactive",
         "Colorado",
         "United States",
         "Student",
         "Active",
         "WeChat Pay",
         "Payment in advance"
        ],
        [
         "2025-02-13",
         "Ethelyn",
         "Agender",
         "Legacy Analyst",
         "Technical savvy",
         "Utah",
         "United States",
         "Essential",
         "Blocked",
         "WeChat Pay",
         "Payment in advance"
        ],
        [
         "2025-02-13",
         "Sherise",
         "Female",
         "District Analyst",
         "Work under pressure",
         "North Carolina",
         "United States",
         "Free Trial",
         "Pending",
         "Money transfer",
         "Annual"
        ],
        [
         "2025-02-13",
         "Riley",
         "Non-binary",
         "Accounting Administrator",
         "Fast learner",
         "South Carolina",
         "United States",
         "Essential",
         "Pending",
         "Cash",
         "Full subscription"
        ],
        [
         "2025-02-13",
         "Pandora",
         "Bigender",
         "Sales Analyst",
         "Organisation",
         "North Carolina",
         "United States",
         "Free Trial",
         "Idle",
         "Cheque",
         "Full subscription"
        ],
        [
         "2025-02-13",
         "Ellan",
         "Polygender",
         "Customer Administration Associate",
         "Technical savvy",
         "Maine",
         "United States",
         "Starter",
         "Blocked",
         "Money transfer",
         "Annual"
        ],
        [
         "2025-02-13",
         "Kip",
         "Non-binary",
         "Global Manager",
         "Confidence",
         "North Dakota",
         "United States",
         "Premium",
         "Active",
         "Debit card",
         "Annual"
        ],
        [
         "2025-02-13",
         "Ethan",
         "Non-binary",
         "Product Community-Services Manager",
         "Leadership",
         "Arkansas",
         "United States",
         "Essential",
         "Pending",
         "Bitcoins",
         "Monthly"
        ],
        [
         "2025-02-13",
         "Rubye",
         "Non-binary",
         "International Coordinator",
         "Communication",
         "Nebraska",
         "United States",
         "Essential",
         "Active",
         "Visa checkout",
         "Payment in advance"
        ],
        [
         "2025-02-13",
         "Kenneth",
         "Genderqueer",
         "Legal Planner",
         "Organisation",
         "California",
         "United States",
         "Premium",
         "Idle",
         "Alipay",
         "Payment in advance"
        ],
        [
         "2025-02-13",
         "Mireya",
         "Genderqueer",
         "Real-Estate Director",
         "Teamwork",
         "Vermont",
         "United States",
         "Free Trial",
         "Active",
         "Alipay",
         "Annual"
        ],
        [
         "2025-02-13",
         "Sherie",
         "Bigender",
         "Community-Services Representative",
         "Problem solving",
         "West Virginia",
         "United States",
         "Free Trial",
         "Pending",
         "Paypal",
         "Monthly"
        ],
        [
         "2025-02-13",
         "Hilton",
         "Non-binary",
         "Product Agent",
         "Networking skills",
         "Maryland",
         "United States",
         "Gold",
         "Blocked",
         "Google Pay",
         "Full subscription"
        ],
        [
         "2025-02-13",
         "Effie",
         "Polygender",
         "Human Healthcare Supervisor",
         "Organisation",
         "Washington",
         "United States",
         "Basic",
         "Blocked",
         "WeChat Pay",
         "Payment in advance"
        ],
        [
         "2025-02-13",
         "Vikki",
         "Agender",
         "Marketing Producer",
         "Technical savvy",
         "New Mexico",
         "United States",
         "Gold",
         "Idle",
         "Debit card",
         "Monthly"
        ],
        [
         "2025-02-13",
         "Kandra",
         "Polygender",
         "Legacy Specialist",
         "Communication",
         "New York",
         "United States",
         "Professional",
         "Pending",
         "Alipay",
         "Payment in advance"
        ],
        [
         "2025-02-13",
         "Hobert",
         "Female",
         "Customer Agent",
         "Organisation",
         "Oregon",
         "United States",
         "Diamond",
         "Blocked",
         "Paypal",
         "Monthly"
        ],
        [
         "2025-02-13",
         "Ivana",
         "Polygender",
         "Manufacturing Architect",
         "Communication",
         "Arizona",
         "United States",
         "Basic",
         "Pending",
         "Cheque",
         "Annual"
        ],
        [
         "2025-02-13",
         "Delmar",
         "Genderfluid",
         "Dynamic Healthcare Coordinator",
         "Organisation",
         "West Virginia",
         "United States",
         "Silver",
         "Blocked",
         "Google Pay",
         "Full subscription"
        ],
        [
         "2025-02-13",
         "Keila",
         "Genderqueer",
         "Consulting Representative",
         "Technical savvy",
         "Nebraska",
         "United States",
         "Bronze",
         "Idle",
         "Money transfer",
         "Full subscription"
        ],
        [
         "2025-02-13",
         "Rocky",
         "Polygender",
         "Central Administration Technician",
         "Work under pressure",
         "Tennessee",
         "United States",
         "Bronze",
         "Blocked",
         "Money transfer",
         "Full subscription"
        ],
        [
         "2025-02-13",
         "Emerald",
         "Bigender",
         "Future Associate",
         "Communication",
         "New York",
         "United States",
         "Basic",
         "Blocked",
         "Debit card",
         "Payment in advance"
        ],
        [
         "2025-02-13",
         "Benjamin",
         "Bigender",
         "District Advertising Agent",
         "Technical savvy",
         "Oklahoma",
         "United States",
         "Premium",
         "Idle",
         "Paypal",
         "Annual"
        ],
        [
         "2025-02-13",
         "Jacquetta",
         "Polygender",
         "National Retail Liaison",
         "Proactive",
         "Texas",
         "United States",
         "Basic",
         "Blocked",
         "Paypal",
         "Monthly"
        ],
        [
         "2025-02-13",
         "Mee",
         "Genderqueer",
         "Investor Real-Estate Administrator",
         "Communication",
         "Georgia",
         "United States",
         "Essential",
         "Blocked",
         "Debit card",
         "Full subscription"
        ],
        [
         "2025-02-13",
         "Jeremy",
         "Genderqueer",
         "Government Planner",
         "Teamwork",
         "New York",
         "United States",
         "Bronze",
         "Active",
         "Cheque",
         "Full subscription"
        ],
        [
         "2025-02-13",
         "Angela",
         "Agender",
         "Dynamic Hospitality Orchestrator",
         "Communication",
         "Minnesota",
         "United States",
         "Premium",
         "Blocked",
         "Credit card",
         "Payment in advance"
        ],
        [
         "2025-02-13",
         "Stephen",
         "Genderqueer",
         "Chief Marketing Assistant",
         "Proactive",
         "Wisconsin",
         "United States",
         "Business",
         "Active",
         "Apple Pay",
         "Payment in advance"
        ],
        [
         "2025-02-13",
         "Lauri",
         "Male",
         "Technology Analyst",
         "Teamwork",
         "Oregon",
         "United States",
         "Free Trial",
         "Idle",
         "Paypal",
         "Annual"
        ],
        [
         "2025-02-13",
         "Ricardo",
         "Agender",
         "National IT Associate",
         "Leadership",
         "Oregon",
         "United States",
         "Standard",
         "Pending",
         "Money transfer",
         "Full subscription"
        ],
        [
         "2025-02-13",
         "Beula",
         "Female",
         "Regional Technology Agent",
         "Teamwork",
         "Iowa",
         "United States",
         "Basic",
         "Blocked",
         "Bitcoins",
         "Annual"
        ],
        [
         "2025-02-13",
         "Branden",
         "Genderfluid",
         "Sales Agent",
         "Teamwork",
         "Wisconsin",
         "United States",
         "Free Trial",
         "Pending",
         "Credit card",
         "Full subscription"
        ],
        [
         "2025-02-13",
         "Bradford",
         "Agender",
         "Community-Services Coordinator",
         "Problem solving",
         "Connecticut",
         "United States",
         "Diamond",
         "Blocked",
         "Credit card",
         "Annual"
        ],
        [
         "2025-02-13",
         "Harrison",
         "Agender",
         "Senior Legal Administrator",
         "Problem solving",
         "West Virginia",
         "United States",
         "Basic",
         "Active",
         "Money transfer",
         "Payment in advance"
        ],
        [
         "2025-02-13",
         "Devon",
         "Male",
         "Accounting Agent",
         "Confidence",
         "Florida",
         "United States",
         "Essential",
         "Active",
         "Cheque",
         "Monthly"
        ],
        [
         "2025-02-13",
         "Lajuana",
         "Non-binary",
         "Marketing Representative",
         "Proactive",
         "Missouri",
         "United States",
         "Standard",
         "Active",
         "Cash",
         "Annual"
        ],
        [
         "2025-02-13",
         "Darrell",
         "Genderqueer",
         "Corporate Healthcare Coordinator",
         "Problem solving",
         "Wisconsin",
         "United States",
         "Premium",
         "Active",
         "Bitcoins",
         "Annual"
        ],
        [
         "2025-02-13",
         "Misti",
         "Male",
         "Internal Facilitator",
         "Teamwork",
         "Kansas",
         "United States",
         "Essential",
         "Idle",
         "Paypal",
         "Annual"
        ],
        [
         "2025-02-13",
         "Jackeline",
         "Agender",
         "Regional Advertising Strategist",
         "Confidence",
         "Georgia",
         "United States",
         "Essential",
         "Blocked",
         "Apple Pay",
         "Full subscription"
        ],
        [
         "2025-02-13",
         "Elisha",
         "Agender",
         "Government Facilitator",
         "Work under pressure",
         "Washington",
         "United States",
         "Bronze",
         "Pending",
         "Apple Pay",
         "Annual"
        ],
        [
         "2025-02-13",
         "Colene",
         "Female",
         "Investor Mining Representative",
         "Proactive",
         "Wyoming",
         "United States",
         "Standard",
         "Blocked",
         "Google Pay",
         "Monthly"
        ],
        [
         "2025-02-13",
         "Cordia",
         "Non-binary",
         "Healthcare Developer",
         "Fast learner",
         "Minnesota",
         "United States",
         "Business",
         "Active",
         "Money transfer",
         "Monthly"
        ],
        [
         "2025-02-13",
         "Irvin",
         "Female",
         "Chief Sales Specialist",
         "Leadership",
         "South Dakota",
         "United States",
         "Standard",
         "Active",
         "Money transfer",
         "Payment in advance"
        ],
        [
         "2025-02-13",
         "Latonia",
         "Agender",
         "Central Marketing Architect",
         "Organisation",
         "Tennessee",
         "United States",
         "Free Trial",
         "Active",
         "Money transfer",
         "Payment in advance"
        ],
        [
         "2025-02-13",
         "Charley",
         "Male",
         "Chief Construction Supervisor",
         "Proactive",
         "Tennessee",
         "United States",
         "Gold",
         "Pending",
         "Alipay",
         "Monthly"
        ],
        [
         "2025-02-13",
         "Sylvie",
         "Genderqueer",
         "Corporate IT Assistant",
         "Proactive",
         "North Carolina",
         "United States",
         "Professional",
         "Blocked",
         "Cash",
         "Annual"
        ],
        [
         "2025-02-13",
         "Sha",
         "Bigender",
         "Central Construction Consultant",
         "Proactive",
         "Rhode Island",
         "United States",
         "Gold",
         "Active",
         "Google Pay",
         "Annual"
        ],
        [
         "2025-02-13",
         "Stevie",
         "Agender",
         "National Consultant",
         "Work under pressure",
         "Washington",
         "United States",
         "Basic",
         "Active",
         "Debit card",
         "Payment in advance"
        ],
        [
         "2025-02-13",
         "Isaiah",
         "Polygender",
         "Forward Accounting Administrator",
         "Teamwork",
         "North Carolina",
         "United States",
         "Basic",
         "Idle",
         "Cheque",
         "Annual"
        ],
        [
         "2025-02-13",
         "Maynard",
         "Genderqueer",
         "Mining Facilitator",
         "Teamwork",
         "Kentucky",
         "United States",
         "Student",
         "Pending",
         "Alipay",
         "Monthly"
        ],
        [
         "2025-02-13",
         "Hang",
         "Non-binary",
         "Manufacturing Representative",
         "Confidence",
         "Mississippi",
         "United States",
         "Premium",
         "Pending",
         "Visa checkout",
         "Annual"
        ],
        [
         "2025-02-13",
         "Brooks",
         "Female",
         "Internal Supervisor",
         "Work under pressure",
         "Maryland",
         "United States",
         "Business",
         "Pending",
         "WeChat Pay",
         "Full subscription"
        ],
        [
         "2025-02-13",
         "Laurence",
         "Polygender",
         "Consulting Representative",
         "Leadership",
         "South Dakota",
         "United States",
         "Bronze",
         "Active",
         "Cheque",
         "Full subscription"
        ],
        [
         "2025-02-13",
         "Coleman",
         "Genderfluid",
         "Customer Construction Technician",
         "Networking skills",
         "South Dakota",
         "United States",
         "Starter",
         "Active",
         "WeChat Pay",
         "Payment in advance"
        ],
        [
         "2025-02-13",
         "Doyle",
         "Genderqueer",
         "Global Marketing Officer",
         "Technical savvy",
         "Florida",
         "United States",
         "Basic",
         "Idle",
         "Apple Pay",
         "Annual"
        ],
        [
         "2025-02-13",
         "Launa",
         "Agender",
         "Global Technician",
         "Proactive",
         "Florida",
         "United States",
         "Business",
         "Active",
         "Alipay",
         "Payment in advance"
        ],
        [
         "2025-02-13",
         "Jacquelynn",
         "Male",
         "Principal Technology Officer",
         "Leadership",
         "Tennessee",
         "United States",
         "Premium",
         "Idle",
         "Debit card",
         "Payment in advance"
        ],
        [
         "2025-02-13",
         "Thora",
         "Genderfluid",
         "Dynamic Architect",
         "Organisation",
         "Hawaii",
         "United States",
         "Free Trial",
         "Active",
         "Credit card",
         "Full subscription"
        ],
        [
         "2025-02-13",
         "Loren",
         "Polygender",
         "Forward Marketing Administrator",
         "Self-motivated",
         "Vermont",
         "United States",
         "Silver",
         "Pending",
         "Credit card",
         "Monthly"
        ],
        [
         "2025-02-13",
         "Carleen",
         "Polygender",
         "Education Liaison",
         "Teamwork",
         "Georgia",
         "United States",
         "Student",
         "Active",
         "WeChat Pay",
         "Full subscription"
        ],
        [
         "2025-02-13",
         "Rueben",
         "Female",
         "Real-Estate Architect",
         "Networking skills",
         "Hawaii",
         "United States",
         "Standard",
         "Pending",
         "WeChat Pay",
         "Annual"
        ],
        [
         "2025-02-13",
         "Earl",
         "Male",
         "National Advertising Associate",
         "Work under pressure",
         "Wisconsin",
         "United States",
         "Premium",
         "Active",
         "Money transfer",
         "Annual"
        ],
        [
         "2025-02-13",
         "Carl",
         "Genderqueer",
         "Mining Executive",
         "Confidence",
         "North Carolina",
         "United States",
         "Diamond",
         "Blocked",
         "Apple Pay",
         "Annual"
        ],
        [
         "2025-02-13",
         "Haydee",
         "Genderfluid",
         "Dynamic Design Producer",
         "Organisation",
         "Washington",
         "United States",
         "Basic",
         "Active",
         "Cash",
         "Monthly"
        ],
        [
         "2025-02-13",
         "Josefine",
         "Genderqueer",
         "Future Strategist",
         "Proactive",
         "New Hampshire",
         "United States",
         "Standard",
         "Active",
         "Alipay",
         "Payment in advance"
        ],
        [
         "2025-02-13",
         "Venessa",
         "Genderqueer",
         "Design Analyst",
         "Problem solving",
         "Illinois",
         "United States",
         "Silver",
         "Active",
         "Google Pay",
         "Monthly"
        ],
        [
         "2025-02-13",
         "Myron",
         "Male",
         "Corporate Developer",
         "Communication",
         "South Carolina",
         "United States",
         "Free Trial",
         "Idle",
         "Visa checkout",
         "Monthly"
        ],
        [
         "2025-02-13",
         "Terese",
         "Agender",
         "Farming Analyst",
         "Technical savvy",
         "Tennessee",
         "United States",
         "Standard",
         "Blocked",
         "Debit card",
         "Annual"
        ],
        [
         "2025-02-13",
         "Charley",
         "Bigender",
         "Corporate Sales Assistant",
         "Networking skills",
         "New Jersey",
         "United States",
         "Basic",
         "Active",
         "Paypal",
         "Payment in advance"
        ],
        [
         "2025-02-13",
         "Micha",
         "Female",
         "Corporate Legal Manager",
         "Leadership",
         "Wyoming",
         "United States",
         "Basic",
         "Pending",
         "Paypal",
         "Annual"
        ],
        [
         "2025-02-13",
         "Jonathon",
         "Female",
         "Accounting Administrator",
         "Teamwork",
         "Wyoming",
         "United States",
         "Standard",
         "Blocked",
         "WeChat Pay",
         "Payment in advance"
        ],
        [
         "2025-02-13",
         "Louie",
         "Genderqueer",
         "Regional Manufacturing Associate",
         "Communication",
         "Idaho",
         "United States",
         "Premium",
         "Idle",
         "Cheque",
         "Monthly"
        ],
        [
         "2025-02-13",
         "Mikaela",
         "Male",
         "Product Advertising Analyst",
         "Teamwork",
         "New York",
         "United States",
         "Standard",
         "Blocked",
         "WeChat Pay",
         "Full subscription"
        ],
        [
         "2025-02-13",
         "Harvey",
         "Non-binary",
         "Marketing Representative",
         "Technical savvy",
         "Washington",
         "United States",
         "Free Trial",
         "Idle",
         "Money transfer",
         "Full subscription"
        ],
        [
         "2025-02-13",
         "Barry",
         "Bigender",
         "Hospitality Administrator",
         "Communication",
         "Virginia",
         "United States",
         "Gold",
         "Pending",
         "WeChat Pay",
         "Payment in advance"
        ],
        [
         "2025-02-13",
         "Ardith",
         "Agender",
         "Dynamic Marketing Director",
         "Organisation",
         "Mississippi",
         "United States",
         "Free Trial",
         "Pending",
         "Credit card",
         "Payment in advance"
        ],
        [
         "2025-02-13",
         "Bertha",
         "Female",
         "Chief Design Analyst",
         "Technical savvy",
         "Illinois",
         "United States",
         "Free Trial",
         "Active",
         "Bitcoins",
         "Monthly"
        ],
        [
         "2025-02-13",
         "Samantha",
         "Bigender",
         "Dynamic Executive",
         "Fast learner",
         "Connecticut",
         "United States",
         "Gold",
         "Blocked",
         "Alipay",
         "Full subscription"
        ],
        [
         "2025-02-13",
         "Antonette",
         "Male",
         "Principal Liaison",
         "Networking skills",
         "Maine",
         "United States",
         "Standard",
         "Active",
         "Apple Pay",
         "Annual"
        ],
        [
         "2025-02-13",
         "Karin",
         "Bigender",
         "Technology Consultant",
         "Work under pressure",
         "Washington",
         "United States",
         "Basic",
         "Pending",
         "Apple Pay",
         "Payment in advance"
        ],
        [
         "2025-02-13",
         "Tawny",
         "Genderfluid",
         "Legacy Construction Manager",
         "Confidence",
         "Mississippi",
         "United States",
         "Premium",
         "Idle",
         "Visa checkout",
         "Annual"
        ],
        [
         "2025-02-13",
         "Jeniffer",
         "Non-binary",
         "Retail Specialist",
         "Proactive",
         "New Mexico",
         "United States",
         "Professional",
         "Blocked",
         "Bitcoins",
         "Payment in advance"
        ],
        [
         "2025-02-13",
         "Vernon",
         "Polygender",
         "Legacy Sales Consultant",
         "Communication",
         "Iowa",
         "United States",
         "Standard",
         "Active",
         "Bitcoins",
         "Full subscription"
        ],
        [
         "2025-02-13",
         "Bradley",
         "Polygender",
         "Accounting Assistant",
         "Organisation",
         "Pennsylvania",
         "United States",
         "Basic",
         "Blocked",
         "Money transfer",
         "Payment in advance"
        ]
       ],
       "datasetInfos": [],
       "dbfsResultPath": null,
       "isJsonSchema": true,
       "metadata": {
        "createTempViewForImplicitDf": true,
        "dataframeName": "_sqldf",
        "executionCount": 33
       },
       "overflow": false,
       "plotOptions": {
        "customPlotOptions": {},
        "displayType": "table",
        "pivotAggregation": null,
        "pivotColumns": null,
        "xColumns": null,
        "yColumns": null
       },
       "removedWidgets": [],
       "schema": [
        {
         "metadata": "{}",
         "name": "DT_REFE_CRGA",
         "type": "\"string\""
        },
        {
         "metadata": "{}",
         "name": "NM_USUA",
         "type": "\"string\""
        },
        {
         "metadata": "{}",
         "name": "NM_GENERO",
         "type": "\"string\""
        },
        {
         "metadata": "{}",
         "name": "DS_CARGO",
         "type": "\"string\""
        },
        {
         "metadata": "{}",
         "name": "DS_AREA",
         "type": "\"string\""
        },
        {
         "metadata": "{}",
         "name": "NM_ESTADO",
         "type": "\"string\""
        },
        {
         "metadata": "{}",
         "name": "NM_PAIS",
         "type": "\"string\""
        },
        {
         "metadata": "{}",
         "name": "TP_CONTA",
         "type": "\"string\""
        },
        {
         "metadata": "{}",
         "name": "ST_CONTA",
         "type": "\"string\""
        },
        {
         "metadata": "{}",
         "name": "DS_MTD_PGTO",
         "type": "\"string\""
        },
        {
         "metadata": "{}",
         "name": "DS_FREQ_PGTO",
         "type": "\"string\""
        }
       ],
       "type": "table"
      }
     },
     "output_type": "display_data"
    }
   ],
   "source": [
    "%sql\n",
    "select * from silver_users.users_clean"
   ]
  }
 ],
 "metadata": {
  "application/vnd.databricks.v1+notebook": {
   "computePreferences": null,
   "dashboards": [],
   "environmentMetadata": {
    "base_environment": "",
    "environment_version": "2"
   },
   "language": "python",
   "notebookMetadata": {
    "mostRecentlyExecutedCommandWithImplicitDF": {
     "commandId": 8771861074485743,
     "dataframes": [
      "_sqldf"
     ]
    },
    "pythonIndentUnit": 4
   },
   "notebookName": "silver",
   "widgets": {}
  },
  "language_info": {
   "name": "python"
  }
 },
 "nbformat": 4,
 "nbformat_minor": 0
}