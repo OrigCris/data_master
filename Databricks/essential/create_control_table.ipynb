{
 "cells": [
  {
   "cell_type": "markdown",
   "metadata": {
    "application/vnd.databricks.v1+cell": {
     "cellMetadata": {},
     "inputWidgets": {},
     "nuid": "a0180e76-ca47-43d9-a517-06d44d512b36",
     "showTitle": false,
     "tableResultSettingsMap": {},
     "title": ""
    }
   },
   "source": [
    "\n",
    "# Silver – Tabela de Controle do CDF\n",
    "\n",
    "Este notebook cria a **tabela de controle** usada pela camada Silver para\n",
    "rastrear a **última versão do Change Data Feed (_commit_version)** já aplicada\n",
    "de cada tabela Bronze do **call center**.\n",
    "\n",
    "**O que este notebook faz:**\n",
    "1. Cria (se necessário) o **schema Silver** no catálogo escolhido.\n",
    "2. Cria (se necessário) a tabela de controle `__last_processed_version` com:\n",
    "   - `source_table` (FQN da tabela Bronze)\n",
    "   - `last_version` (BIGINT, default 0)\n",
    "   - `last_run_at` (TIMESTAMP, default 1970-01-01)\n",
    "   - *Constraint* de sanidade (`last_version >= 0`)\n",
    "3. **Seed inicial** (idempotente) com as **3 fontes Bronze** do call center:\n",
    "   - URA  \n",
    "   - Atendimento humano (encaminhadas)  \n",
    "   - Pesquisa de satisfação  \n",
    "\n",
    "> **Por que precisamos disso?**  \n",
    "> Na Silver (batch/trigger-once), lemos o CDF **a partir do último _commit_version**\n",
    "> aplicado. Essa tabela de controle guarda esse marcador por **fonte**, garantindo\n",
    "> **idempotência** e **reprocesso seguro**.\n"
   ]
  },
  {
   "cell_type": "markdown",
   "metadata": {
    "application/vnd.databricks.v1+cell": {
     "cellMetadata": {},
     "inputWidgets": {},
     "nuid": "460ea77e-b261-4be4-8557-8070f9558992",
     "showTitle": false,
     "tableResultSettingsMap": {},
     "title": ""
    }
   },
   "source": [
    "\n",
    "## Parâmetros editáveis\n",
    "Ajuste abaixo o **catálogo**, os **schemas** e os **nomes das tabelas Bronze**.\n",
    "Os FQNs serão montados automaticamente.\n"
   ]
  },
  {
   "cell_type": "code",
   "execution_count": 0,
   "metadata": {
    "application/vnd.databricks.v1+cell": {
     "cellMetadata": {
      "byteLimit": 2048000,
      "rowLimit": 10000
     },
     "inputWidgets": {},
     "nuid": "30b943dd-04ef-40f6-9ba9-2415728dca66",
     "showTitle": false,
     "tableResultSettingsMap": {},
     "title": ""
    }
   },
   "outputs": [
    {
     "output_type": "stream",
     "name": "stdout",
     "output_type": "stream",
     "text": [
      "Bronze URA:         prd.b_dm_callcenter.ura_once\nBronze Ligações:    prd.b_dm_callcenter.calls_once\nBronze Pesquisa:    prd.b_dm_callcenter.surveys_once\nTabela de controle: prd.s_dm_callcenter.__last_processed_version\n"
     ]
    }
   ],
   "source": [
    "\n",
    "# ===================== PARÂMETROS EDITÁVEIS =====================\n",
    "catalog_name   = \"prd\"\n",
    "bronze_schema  = \"b_dm_callcenter\"\n",
    "silver_schema  = \"s_dm_callcenter\"\n",
    "\n",
    "# Tabelas Bronze (nomes conforme seu projeto)\n",
    "bronze_ura_table   = \"ura_once\"\n",
    "bronze_calls_tbl   = \"calls_once\"\n",
    "bronze_surveys_tbl = \"surveys_once\"\n",
    "\n",
    "# ===================== DERIVA FQNs =====================\n",
    "BRONZE_URA_FQN     = f\"{catalog_name}.{bronze_schema}.{bronze_ura_table}\"\n",
    "BRONZE_CALLS_FQN   = f\"{catalog_name}.{bronze_schema}.{bronze_calls_tbl}\"\n",
    "BRONZE_SURVEYS_FQN = f\"{catalog_name}.{bronze_schema}.{bronze_surveys_tbl}\"\n",
    "CTRL_TBL_FQN       = f\"{catalog_name}.{silver_schema}.__last_processed_version\"\n",
    "\n",
    "print(\"Bronze URA:        \", BRONZE_URA_FQN)\n",
    "print(\"Bronze Ligações:   \", BRONZE_CALLS_FQN)\n",
    "print(\"Bronze Pesquisa:   \", BRONZE_SURVEYS_FQN)\n",
    "print(\"Tabela de controle:\", CTRL_TBL_FQN)\n"
   ]
  },
  {
   "cell_type": "markdown",
   "metadata": {
    "application/vnd.databricks.v1+cell": {
     "cellMetadata": {},
     "inputWidgets": {},
     "nuid": "5cb1da5f-2b27-4eef-8f64-6807b6ea2eb4",
     "showTitle": false,
     "tableResultSettingsMap": {},
     "title": ""
    }
   },
   "source": [
    "\n",
    "## Criar tabela de controle (se não existir)\n",
    "Estrutura mínima + constraints e comentário:\n",
    "- `source_table` (**NOT NULL**): FQN da tabela Bronze  \n",
    "- `last_version` (**NOT NULL**): último `_commit_version` aplicado  \n",
    "- `last_run_at` (**NOT NULL**): timestamp do último run  "
   ]
  },
  {
   "cell_type": "code",
   "execution_count": 0,
   "metadata": {
    "application/vnd.databricks.v1+cell": {
     "cellMetadata": {
      "byteLimit": 2048000,
      "rowLimit": 10000
     },
     "inputWidgets": {},
     "nuid": "70c1a830-dd4b-4b68-b757-649b6320b3f7",
     "showTitle": false,
     "tableResultSettingsMap": {},
     "title": ""
    }
   },
   "outputs": [
    {
     "output_type": "execute_result",
     "data": {
      "text/plain": [
       "DataFrame[]"
      ]
     },
     "execution_count": 5,
     "metadata": {},
     "output_type": "execute_result"
    }
   ],
   "source": [
    "spark.sql(f'''\n",
    "CREATE TABLE IF NOT EXISTS {CTRL_TBL_FQN} (\n",
    "  source_table STRING NOT NULL,\n",
    "  last_version BIGINT NOT NULL,\n",
    "  last_run_at  TIMESTAMP NOT NULL\n",
    ")\n",
    "USING DELTA\n",
    "COMMENT \"Controle de última versão (_commit_version) processada por fonte Bronze para consumo CDF na Silver.\"\n",
    "''')\n"
   ]
  },
  {
   "cell_type": "markdown",
   "metadata": {
    "application/vnd.databricks.v1+cell": {
     "cellMetadata": {},
     "inputWidgets": {},
     "nuid": "806bbf8d-514a-4d51-b95e-c4edb5c7c4bf",
     "showTitle": false,
     "tableResultSettingsMap": {},
     "title": ""
    }
   },
   "source": [
    "\n",
    "## Seed inicial (idempotente) das 3 fontes Bronze\n",
    "Insere as três fontes se **ainda não existirem** na tabela de controle (não duplica).\n"
   ]
  },
  {
   "cell_type": "code",
   "execution_count": 0,
   "metadata": {
    "application/vnd.databricks.v1+cell": {
     "cellMetadata": {
      "byteLimit": 2048000,
      "rowLimit": 10000
     },
     "inputWidgets": {},
     "nuid": "df45aae8-cdab-4fc8-8f52-d8433bc4cff6",
     "showTitle": false,
     "tableResultSettingsMap": {},
     "title": ""
    }
   },
   "outputs": [
    {
     "output_type": "execute_result",
     "data": {
      "text/plain": [
       "DataFrame[num_affected_rows: bigint, num_updated_rows: bigint, num_deleted_rows: bigint, num_inserted_rows: bigint]"
      ]
     },
     "execution_count": 6,
     "metadata": {},
     "output_type": "execute_result"
    }
   ],
   "source": [
    "spark.sql(f'''\n",
    "MERGE INTO {CTRL_TBL_FQN} t\n",
    "USING (\n",
    "  SELECT * FROM VALUES\n",
    "    (\"{BRONZE_URA_FQN}\",  0, TIMESTAMP\"1970-01-01 00:00:00\"),\n",
    "    (\"{BRONZE_CALLS_FQN}\",  0, TIMESTAMP\"1970-01-01 00:00:00\"),\n",
    "    (\"{BRONZE_SURVEYS_FQN}\", 0, TIMESTAMP\"1970-01-01 00:00:00\")\n",
    "  AS v(source_table, last_version, last_run_at)\n",
    ") s\n",
    "ON t.source_table = s.source_table\n",
    "WHEN NOT MATCHED THEN INSERT *\n",
    "''')\n"
   ]
  },
  {
   "cell_type": "markdown",
   "metadata": {
    "application/vnd.databricks.v1+cell": {
     "cellMetadata": {},
     "inputWidgets": {},
     "nuid": "4c180966-550b-4237-aff7-22fa9bd86e4f",
     "showTitle": false,
     "tableResultSettingsMap": {},
     "title": ""
    }
   },
   "source": [
    "\n",
    "## \uD83D\uDD0E Validação rápida\n",
    "Confirme que as **três fontes** estão registradas com `last_version = 0`.\n"
   ]
  },
  {
   "cell_type": "code",
   "execution_count": 0,
   "metadata": {
    "application/vnd.databricks.v1+cell": {
     "cellMetadata": {
      "byteLimit": 2048000,
      "rowLimit": 10000
     },
     "inputWidgets": {},
     "nuid": "688412e9-153b-4089-8faa-40ad6a719f12",
     "showTitle": false,
     "tableResultSettingsMap": {},
     "title": ""
    }
   },
   "outputs": [
    {
     "output_type": "display_data",
     "data": {
      "text/html": [
       "<style scoped>\n",
       "  .table-result-container {\n",
       "    max-height: 300px;\n",
       "    overflow: auto;\n",
       "  }\n",
       "  table, th, td {\n",
       "    border: 1px solid black;\n",
       "    border-collapse: collapse;\n",
       "  }\n",
       "  th, td {\n",
       "    padding: 5px;\n",
       "  }\n",
       "  th {\n",
       "    text-align: left;\n",
       "  }\n",
       "</style><div class='table-result-container'><table class='table-result'><thead style='background-color: white'><tr><th>source_table</th><th>last_version</th><th>last_run_at</th></tr></thead><tbody><tr><td>prd.b_dm_callcenter.calls_once</td><td>0</td><td>1970-01-01T00:00:00Z</td></tr><tr><td>prd.b_dm_callcenter.surveys_once</td><td>0</td><td>1970-01-01T00:00:00Z</td></tr><tr><td>prd.b_dm_callcenter.ura_once</td><td>0</td><td>1970-01-01T00:00:00Z</td></tr></tbody></table></div>"
      ]
     },
     "metadata": {
      "application/vnd.databricks.v1+output": {
       "addedWidgets": {},
       "aggData": [],
       "aggError": "",
       "aggOverflow": false,
       "aggSchema": [],
       "aggSeriesLimitReached": false,
       "aggType": "",
       "arguments": {},
       "columnCustomDisplayInfos": {},
       "data": [
        [
         "prd.b_dm_callcenter.calls_once",
         0,
         "1970-01-01T00:00:00Z"
        ],
        [
         "prd.b_dm_callcenter.surveys_once",
         0,
         "1970-01-01T00:00:00Z"
        ],
        [
         "prd.b_dm_callcenter.ura_once",
         0,
         "1970-01-01T00:00:00Z"
        ]
       ],
       "datasetInfos": [],
       "dbfsResultPath": null,
       "isJsonSchema": true,
       "metadata": {},
       "overflow": false,
       "plotOptions": {
        "customPlotOptions": {},
        "displayType": "table",
        "pivotAggregation": null,
        "pivotColumns": null,
        "xColumns": null,
        "yColumns": null
       },
       "removedWidgets": [],
       "schema": [
        {
         "metadata": "{}",
         "name": "source_table",
         "type": "\"string\""
        },
        {
         "metadata": "{}",
         "name": "last_version",
         "type": "\"long\""
        },
        {
         "metadata": "{}",
         "name": "last_run_at",
         "type": "\"timestamp\""
        }
       ],
       "type": "table"
      }
     },
     "output_type": "display_data"
    }
   ],
   "source": [
    "spark.sql(f\"SELECT * FROM {CTRL_TBL_FQN} ORDER BY source_table\").display()\n"
   ]
  },
  {
   "cell_type": "markdown",
   "metadata": {
    "application/vnd.databricks.v1+cell": {
     "cellMetadata": {},
     "inputWidgets": {},
     "nuid": "a1ccf147-efc7-41a0-bbe3-94d9b918ab4f",
     "showTitle": false,
     "tableResultSettingsMap": {},
     "title": ""
    }
   },
   "source": [
    "\n",
    "## Reset (quando necessário)\n",
    "Para recomputar do zero uma fonte específica, rode no **%sql** ou via `spark.sql`:\n",
    "```sql\n",
    "UPDATE {catalog}.{schema}.__last_processed_version\n",
    "SET last_version = 0, last_run_at = current_timestamp()\n",
    "WHERE source_table = '<FQN DA BRONZE>';\n",
    "```\n",
    "(Substitua `catalog`/`schema` pelo que você usou neste notebook.)\n"
   ]
  }
 ],
 "metadata": {
  "application/vnd.databricks.v1+notebook": {
   "computePreferences": null,
   "dashboards": [],
   "environmentMetadata": null,
   "inputWidgetPreferences": null,
   "language": "python",
   "notebookMetadata": {
    "pythonIndentUnit": 4
   },
   "notebookName": "silver_control_seed",
   "widgets": {}
  },
  "language_info": {
   "name": "python"
  }
 },
 "nbformat": 4,
 "nbformat_minor": 0
}